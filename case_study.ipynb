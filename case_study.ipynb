{
 "cells": [
  {
   "cell_type": "code",
   "execution_count": 1,
   "id": "eeec8b18",
   "metadata": {},
   "outputs": [],
   "source": [
    "# User variables\n",
    "SAVE_ELEMENTS = True # True if figures and models shall be saved\n",
    "\n",
    "MAX_DURATION_JOURNEY = 180"
   ]
  },
  {
   "cell_type": "code",
   "execution_count": 2,
   "id": "6e43f412",
   "metadata": {},
   "outputs": [],
   "source": [
    "# Imports\n",
    "import numpy as np\n",
    "import random\n",
    "import pandas as pd\n",
    "import matplotlib.pyplot as plt\n",
    "import networkx as nx\n",
    "import copy\n",
    "from pm4py.objects.log.util import dataframe_utils\n",
    "from networkx.drawing.nx_agraph import graphviz_layout, to_agraph\n",
    "import pygraphviz as pgv\n",
    "import json\n",
    "import seaborn as sns\n",
    "from collections import Counter\n",
    "import subprocess"
   ]
  },
  {
   "cell_type": "code",
   "execution_count": 3,
   "id": "52b98f72",
   "metadata": {},
   "outputs": [],
   "source": [
    "VERIFYTA_PATH = \"/home/paul/Downloads/uppaal-4.1.20-stratego-9-linux64/bin/verifyta\""
   ]
  },
  {
   "cell_type": "markdown",
   "id": "9a6a336c",
   "metadata": {},
   "source": [
    "# Preprocessing\n",
    "The data is loaded and preprocessed.\n",
    "Names of events are parsed and unused events are removed."
   ]
  },
  {
   "cell_type": "code",
   "execution_count": 4,
   "id": "58f31a9e",
   "metadata": {},
   "outputs": [],
   "source": [
    "# removes unused events and parses event names\n",
    "def process_touchpoint_names(df):\n",
    "    print(\"Found types\", set(df['Type']))\n",
    "    running_df = df[df['Type'].isin(['state', 'feedback','subject', 'task', 'resultsShared'])].copy()\n",
    "    running_df['concept:name'] = running_df['concept:name'].str.replace('\\n', \"\") # rows might contain line-breaks; for different A, B, C tasks\n",
    "    running_df['concept:name'] = running_df['concept:name'].str.replace(r\"loggedIn.*\",\"loggedIn\") # removes feedback attributes\n",
    "    running_df['concept:name'] = running_df['concept:name'].str.replace(r\"\\[.*\\]\",\"\") # removes feedback attributes\n",
    "    running_df['concept:name'] = running_df['concept:name'].str.replace(\",\", \"\")\n",
    "    running_df['concept:name'] = running_df['concept:name'].str.split('version').str[0]\n",
    "    \n",
    "    running_df['concept:name'] = running_df['concept:name'].str.split('Time used').str[0]\n",
    "\n",
    "    running_df['concept:name'] = running_df['concept:name'].str.split('taskDownloaded').str[0]\n",
    "\n",
    "    running_df['concept:name'] = running_df['concept:name'].str.split('testCompleted').str[0]\n",
    "\n",
    "    running_df['concept:name'] = running_df['concept:name'].str.split('itemCompleted').str[0]\n",
    "\n",
    "    running_df['concept:name'] = running_df['concept:name'].str.strip()\n",
    "\n",
    "    m = running_df['concept:name'].str.contains(\"survey:\")\n",
    "    running_df.loc[m, 'concept:name'] = running_df['concept:name'][m].str.split('survey: ').str[1]\n",
    "    \n",
    "    m = running_df['Type'] == 'state'\n",
    "    running_df.loc[m, 'concept:name'] = running_df['concept:name'][m].values\n",
    "    running_df.loc[~m, 'concept:name'] = running_df['concept:name'][~m].values\n",
    "    return running_df\n",
    "\n",
    "# Filters the dataset to only contain traces with length in [lower_bound, upper_bound]\n",
    "def get_filtered_df(path, lower_bound = 15, upper_bound = 60):\n",
    "    df = pd.read_csv(path, sep = \";\")\n",
    "    log_csv = dataframe_utils.convert_timestamp_columns_in_df(df)\n",
    "    log_csv = log_csv.sort_values('Timestamp')\n",
    "\n",
    "    developers_finished_ids = set(log_csv[log_csv['Message'] == \"finished\"]['Developer ID'].sort_values().values)\n",
    "\n",
    "    #rename columns to process mining notation\n",
    "    log_csv.rename(columns={'Developer ID': 'case:DeveloperID', 'Message' : 'concept:name', 'Timestamp':'time:timestamp'}, inplace=True)\n",
    "    log_csv['time:timestamp'] = pd.to_datetime(log_csv['time:timestamp'], unit='s')\n",
    "    \n",
    "    # process touchpoint names\n",
    "    developers_df = process_touchpoint_names(log_csv)\n",
    "\n",
    "    #filter used logs\n",
    "    developers_df = developers_df.groupby(['case:DeveloperID']).filter(lambda x: len(x) >= lower_bound and len(x) <= upper_bound)\n",
    "\n",
    "    unsuccesfull = developers_df[~developers_df['case:DeveloperID'].isin(list(developers_finished_ids))]['case:DeveloperID'].value_counts().to_list()\n",
    "    succesfull = developers_df[developers_df['case:DeveloperID'].isin(list(developers_finished_ids))]['case:DeveloperID'].value_counts().to_list()\n",
    "    plt.scatter(range(len(unsuccesfull)), unsuccesfull, c = \"r\", s = 7)\n",
    "    plt.scatter(range(len(unsuccesfull),len(unsuccesfull)+(len(succesfull))), succesfull, c = \"b\", s = 7)\n",
    "    plt.xlabel(\"Journeys\")\n",
    "    plt.ylabel(\"Length\")\n",
    "    plt.show()\n",
    "    print(\"Includes #unsuccesfull:\", len(unsuccesfull),\"and #succesfull\", len(succesfull))\n",
    "    \n",
    "    print(\"Histograms\")\n",
    "    sns.displot(data=pd.DataFrame({\"Journey Length - Successfull\": succesfull}),\n",
    "            x=\"Journey Length - Successfull\", color='blueviolet', height=3)\n",
    "    plt.show()\n",
    "    \n",
    "    sns.displot(data=pd.DataFrame({\"Journey Length - Unsuccessfull\": unsuccesfull}),\n",
    "            x=\"Journey Length - Unsuccessfull\", color='blueviolet', height=3)\n",
    "    plt.show()\n",
    "    \n",
    "\n",
    "    developers_df = developers_df.sort_values(by=['time:timestamp'])\n",
    "\n",
    "    return developers_df"
   ]
  },
  {
   "cell_type": "code",
   "execution_count": 5,
   "id": "357eff34",
   "metadata": {},
   "outputs": [
    {
     "name": "stdout",
     "output_type": "stream",
     "text": [
      "Found types {'vpcInstance', 'activate', 'state', 'latency', 'score', 'subject', 'feedback', 'resultsShared', 'task'}\n"
     ]
    },
    {
     "name": "stderr",
     "output_type": "stream",
     "text": [
      "/tmp/ipykernel_3667/3885284329.py:6: FutureWarning: The default value of regex will change from True to False in a future version.\n",
      "  running_df['concept:name'] = running_df['concept:name'].str.replace(r\"loggedIn.*\",\"loggedIn\") # removes feedback attributes\n",
      "/tmp/ipykernel_3667/3885284329.py:7: FutureWarning: The default value of regex will change from True to False in a future version.\n",
      "  running_df['concept:name'] = running_df['concept:name'].str.replace(r\"\\[.*\\]\",\"\") # removes feedback attributes\n"
     ]
    },
    {
     "data": {
      "image/png": "[encoded data removed]",
      "text/plain": [
       "<Figure size 432x288 with 1 Axes>"
      ]
     },
     "metadata": {
      "needs_background": "light"
     },
     "output_type": "display_data"
    },
    {
     "name": "stdout",
     "output_type": "stream",
     "text": [
      "Includes #unsuccesfull: 16 and #succesfull 17\n",
      "Histograms\n"
     ]
    },
    {
     "data": {
      "image/png": "[encoded data removed]",
      "text/plain": [
       "<Figure size 216x216 with 1 Axes>"
      ]
     },
     "metadata": {
      "needs_background": "light"
     },
     "output_type": "display_data"
    },
    {
     "data": {
      "image/png": "[encoded data removed]",
      "text/plain": [
       "<Figure size 216x216 with 1 Axes>"
      ]
     },
     "metadata": {
      "needs_background": "light"
     },
     "output_type": "display_data"
    },
    {
     "name": "stdout",
     "output_type": "stream",
     "text": [
      "1970-01-27 15:22:16 1970-03-17 16:00:20\n",
      "49 days 00:38:04 4235884.0\n"
     ]
    }
   ],
   "source": [
    "filtered_df_old = get_filtered_df(\"data.csv\")\n",
    "s1 = set(filtered_df_old[\"concept:name\"])\n",
    "\n",
    "started = filtered_df_old[filtered_df_old[\"concept:name\"]==\"registered\"]\n",
    "times = started[\"time:timestamp\"]\n",
    "print(min(times), max(times)) # two years\n",
    "print(max(times)-min(times), (max(times)-min(times)).total_seconds())\n",
    "WINDOW_SIZE = (max(times)-min(times)).total_seconds()"
   ]
  },
  {
   "cell_type": "code",
   "execution_count": 6,
   "id": "5a598e4d",
   "metadata": {},
   "outputs": [
    {
     "name": "stdout",
     "output_type": "stream",
     "text": [
      "Found types {'vpcInstance', 'activate', 'state', 'latency', 'score', 'subject', 'feedback', 'resultsShared', 'task'}\n"
     ]
    },
    {
     "name": "stderr",
     "output_type": "stream",
     "text": [
      "/tmp/ipykernel_3667/3885284329.py:6: FutureWarning: The default value of regex will change from True to False in a future version.\n",
      "  running_df['concept:name'] = running_df['concept:name'].str.replace(r\"loggedIn.*\",\"loggedIn\") # removes feedback attributes\n",
      "/tmp/ipykernel_3667/3885284329.py:7: FutureWarning: The default value of regex will change from True to False in a future version.\n",
      "  running_df['concept:name'] = running_df['concept:name'].str.replace(r\"\\[.*\\]\",\"\") # removes feedback attributes\n"
     ]
    },
    {
     "data": {
      "image/png": "[encoded data removed]",
      "text/plain": [
       "<Figure size 432x288 with 1 Axes>"
      ]
     },
     "metadata": {
      "needs_background": "light"
     },
     "output_type": "display_data"
    },
    {
     "name": "stdout",
     "output_type": "stream",
     "text": [
      "Includes #unsuccesfull: 151 and #succesfull 375\n",
      "Histograms\n"
     ]
    },
    {
     "data": {
      "image/png": "[encoded data removed]",
      "text/plain": [
       "<Figure size 216x216 with 1 Axes>"
      ]
     },
     "metadata": {
      "needs_background": "light"
     },
     "output_type": "display_data"
    },
    {
     "data": {
      "image/png": "[encoded data removed]",
      "text/plain": [
       "<Figure size 216x216 with 1 Axes>"
      ]
     },
     "metadata": {
      "needs_background": "light"
     },
     "output_type": "display_data"
    }
   ],
   "source": [
    "filtered_df = get_filtered_df(\"data_extended.csv\")\n",
    "s2 = set(filtered_df[\"concept:name\"])"
   ]
  },
  {
   "cell_type": "code",
   "execution_count": 7,
   "id": "c810212e",
   "metadata": {},
   "outputs": [
    {
     "name": "stdout",
     "output_type": "stream",
     "text": [
      "       Company ID Category  case:DeveloperID      time:timestamp     Type  \\\n",
      "25807           9      B2B               571 1970-03-25 23:51:59    state   \n",
      "25808           9      B2B               571 1970-03-26 22:32:28    state   \n",
      "25809           9      B2B               571 1970-03-26 22:32:28  subject   \n",
      "25811           9      B2B               571 1970-03-26 22:32:29    state   \n",
      "25810           9      B2B               571 1970-03-26 22:32:29    state   \n",
      "\n",
      "                  concept:name  Unnamed: 6  \n",
      "25807               registered         NaN  \n",
      "25808                activated         NaN  \n",
      "25809      Logged in: Web page         NaN  \n",
      "25811  vpcCreateUserOnInstance         NaN  \n",
      "25810        vpcAssignInstance         NaN  \n",
      "number companies 18\n"
     ]
    },
    {
     "data": {
      "image/png": "[encoded data removed]",
      "text/plain": [
       "<Figure size 432x288 with 1 Axes>"
      ]
     },
     "metadata": {
      "needs_background": "light"
     },
     "output_type": "display_data"
    },
    {
     "name": "stdout",
     "output_type": "stream",
     "text": [
      "1970-03-25 23:51:59 1972-03-09 21:53:49\n"
     ]
    },
    {
     "data": {
      "image/png": "[encoded data removed]",
      "text/plain": [
       "<Figure size 432x288 with 1 Axes>"
      ]
     },
     "metadata": {
      "needs_background": "light"
     },
     "output_type": "display_data"
    }
   ],
   "source": [
    "# investigate starting time-stamp\n",
    "print(filtered_df.head())\n",
    "times = {}\n",
    "companies = {}\n",
    "developers = set(filtered_df['case:DeveloperID'])\n",
    "\n",
    "for d in developers:\n",
    "    reduced = filtered_df[filtered_df['case:DeveloperID']==d]\n",
    "    assert(len(set(reduced[\"Company ID\"])) == 1)\n",
    "    companies[d] = list(set(reduced[\"Company ID\"]))[0]\n",
    "    times[d] = (min(reduced[\"time:timestamp\"]), max(reduced[\"time:timestamp\"]))\n",
    "\n",
    "number_companies = len(set(companies.values()))\n",
    "company_iterator = {c : i for c,i in zip(set(companies.values()), range(number_companies))}\n",
    "print(\"number companies\", number_companies)\n",
    "\n",
    "sorted_times = sorted(times.items(), key=lambda item: item[1])\n",
    "\n",
    "count = 0\n",
    "for t in sorted_times:\n",
    "    company_it = company_iterator[companies[t[0]]]\n",
    "    plt.plot([t[1][0],t[1][1]], [count, count], c=sns.color_palette(\"hls\", number_companies)[company_it])\n",
    "    count += 1\n",
    "plt.title(\"Duration of journeys, colored by company\")\n",
    "plt.show()\n",
    "\n",
    "started = filtered_df[filtered_df[\"concept:name\"]==\"registered\"]\n",
    "starting_times = started[\"time:timestamp\"]\n",
    "end_times = filtered_df.groupby(['case:DeveloperID']).max()[\"time:timestamp\"]\n",
    "print(min(starting_times), max(starting_times)) # two years\n",
    "plt.hist(starting_times, 48)\n",
    "plt.show()"
   ]
  },
  {
   "cell_type": "code",
   "execution_count": 8,
   "id": "46cd676a",
   "metadata": {},
   "outputs": [
    {
     "data": {
      "image/png": "[encoded data removed]",
      "text/plain": [
       "<Figure size 432x288 with 1 Axes>"
      ]
     },
     "metadata": {
      "needs_background": "light"
     },
     "output_type": "display_data"
    },
    {
     "name": "stdout",
     "output_type": "stream",
     "text": [
      "9\n"
     ]
    }
   ],
   "source": [
    "time_diffs = []\n",
    "for t in times.values():\n",
    "    time_diffs.append((t[1]-t[0]).days)\n",
    "\n",
    "plt.hist(time_diffs, 20)\n",
    "plt.title(\"Durations of recorded journeys.\")\n",
    "plt.show()\n",
    "\n",
    "print(len([t for t in time_diffs if t > 180]))"
   ]
  },
  {
   "cell_type": "code",
   "execution_count": 9,
   "id": "c3cd7854",
   "metadata": {},
   "outputs": [
    {
     "name": "stdout",
     "output_type": "stream",
     "text": [
      "['Give feedback', 'Logged in: Web page', 'Results automatically shared', 'Results shared', 'Task event:', 'Task event: loggedIn', 'activated', 'finished', 'readyToStart', 'registered', 'started', 'subjectAcceptanceReceived', 'vpcAssignInstance', 'vpcCreateUserOnInstance', 'waitingForActivityReport', 'waitingForManualScores', 'waitingForResultApproval', 'waitingForScores', 'waitingForSubjectAcceptance']\n",
      "['Give feedback', 'Logged in: Web page', 'Results automatically shared', 'Results not shared', 'Results shared', 'Task event:', 'Task event: loggedIn', 'activated', 'finished', 'null', 'readyToStart', 'registered', 'started', 'subjectAcceptanceDeclined', 'subjectAcceptanceReceived', 'vpcAssignInstance', 'vpcCreateUserOnInstance', 'waitingForActivityReport', 'waitingForManualScores', 'waitingForResultApproval', 'waitingForScores', 'waitingForSubjectAcceptance']\n",
      "In s1, not s2\n",
      "In s2, not s1\n",
      "subjectAcceptanceDeclined <class 'str'>\n",
      "Results not shared <class 'str'>\n",
      "null <class 'str'>\n"
     ]
    }
   ],
   "source": [
    "print(sorted(s1))\n",
    "print(sorted(s2))\n",
    "\n",
    "print(\"In s1, not s2\")\n",
    "for a in s1:\n",
    "    if a not in s2:\n",
    "        print(a)\n",
    "\n",
    "print(\"In s2, not s1\")\n",
    "for a in s2:\n",
    "    if a not in s1:\n",
    "        print(a, type(a))"
   ]
  },
  {
   "cell_type": "markdown",
   "id": "0da2df48",
   "metadata": {},
   "source": [
    "# Build log\n",
    "The dataset is flattened to a log structure"
   ]
  },
  {
   "cell_type": "code",
   "execution_count": 10,
   "id": "2312abf5",
   "metadata": {},
   "outputs": [],
   "source": [
    "success_states = ['finished']\n",
    "# A log consists of traces, where each trace contains all elements from one developer \n",
    "def build_log(df, return_start_times = False):\n",
    "    log = []\n",
    "    start_times = [] # maps from developer to timestamp\n",
    "    running_df = df.copy()\n",
    "    running_df = running_df.sort_values(by=['time:timestamp'])\n",
    "    developers_id = set(running_df['case:DeveloperID'].values)\n",
    "    for dev_id in developers_id:\n",
    "        current_trace = running_df[running_df['case:DeveloperID'] == dev_id]['concept:name'].values\n",
    "\n",
    "        trace_start = min(running_df[running_df['case:DeveloperID'] == dev_id]['time:timestamp'])\n",
    "        trace_end = max(running_df[running_df['case:DeveloperID'] == dev_id]['time:timestamp'])\n",
    "\n",
    "        if ((trace_end-trace_start).days > MAX_DURATION_JOURNEY):\n",
    "            print(\"omitted developer\", dev_id, \"due to length\")\n",
    "            continue\n",
    "        \n",
    "        # add unique start node \"start\"\n",
    "        current_trace = np.insert(current_trace,0,\"start\")\n",
    "        # attach final node finPos / finNeg\n",
    "        if(any(s in current_trace for s in success_states)):\n",
    "            current_trace = np.append(current_trace,\"finPos\")\n",
    "        else:\n",
    "            current_trace = np.append(current_trace,\"finNeg\")\n",
    "        log.append(current_trace)\n",
    "        start_times.append(min(running_df[running_df['case:DeveloperID'] == dev_id]['time:timestamp']))\n",
    "        \n",
    "    # alter \"logged in: Web page\" to determine phase of journey:\n",
    "    # Phase (1) sign up, (2) solve all programming tasks, and  (3) review and share the skill report with the customer.\n",
    "    for t in log:\n",
    "        indices = [i for i, x in enumerate(t) if x == \"Logged in: Web page\"]\n",
    "        for i in indices:\n",
    "            t[i] = \"Logged in: Web page - Sign up\"\n",
    "            result = np.where(t == \"Task event:\")\n",
    "            if \"Task event:\" in t and result[0][0] < i:\n",
    "                t[i] = \"Logged in: Web page - Task\"\n",
    "            result = np.where(t == \"waitingForResultApproval\")\n",
    "            if \"waitingForResultApproval\" in t and result[0][0] < i:\n",
    "                t[i] = \"Logged in: Web page - Approval\"\n",
    "                \n",
    "    # add task number\n",
    "    for t in log:\n",
    "        indices_feedback = [i for i, x in enumerate(t) if x == \"Give feedback\"]\n",
    "        indices_task = [i for i, x in enumerate(t) if x == \"Task event:\"]\n",
    "        for i in indices_task:\n",
    "            count_indices = [j for j in indices_feedback if j < i] # uses feedback to increase task counter after giving feedback\n",
    "            t[i] += \" \"+str(len(count_indices))\n",
    "    # add feedback number        \n",
    "    for t in log:\n",
    "        indices_feedback = [i for i, x in enumerate(t) if x == \"Give feedback\"]\n",
    "        indices_task = [i for i, x in enumerate(t) if x == \"Task event:\"]\n",
    "        for i in indices_feedback:\n",
    "            count_indices = [j for j in indices_feedback if j < i]\n",
    "            t[i] += \" \"+str(len(count_indices))\n",
    "    \"\"\"\n",
    "    # add number to log in:\n",
    "    for t in log:\n",
    "        indices_feedback = [i for i, x in enumerate(t) if x == \"Give feedback\"]\n",
    "        indices_loggin = [i for i, x in enumerate(t) if x == \"Task event: loggedIn\"]\n",
    "        for i in indices_loggin:\n",
    "            count_indices = [j for j in indices_feedback if j < i]\n",
    "            t[i] += \" \"+str(len(count_indices))\n",
    "    \"\"\"\n",
    "\n",
    "    if return_start_times:\n",
    "        return log, start_times\n",
    "    return log\n",
    "\n",
    "def isInTrace(s,t, trace):\n",
    "    for i in range(len(trace)-1):\n",
    "        if trace[i] == s and trace[i+1] == t:\n",
    "            return True\n",
    "    return False"
   ]
  },
  {
   "cell_type": "code",
   "execution_count": 11,
   "id": "702dd341",
   "metadata": {},
   "outputs": [],
   "source": [
    "def filter_doubles(log):\n",
    "    filtered_log = []\n",
    "    for index in range(len(log)):\n",
    "        # remove sequential same elements\n",
    "        trace = log[index]\n",
    "        current_trace = [trace[0]]\n",
    "\n",
    "        for pos in range(1,len(trace)):\n",
    "            if trace[pos]==trace[pos-1]:\n",
    "                continue\n",
    "            current_trace.append(trace[pos])\n",
    "\n",
    "        filtered_log.append(current_trace)\n",
    "    return filtered_log"
   ]
  },
  {
   "cell_type": "code",
   "execution_count": 12,
   "id": "07dba2c5",
   "metadata": {},
   "outputs": [
    {
     "name": "stdout",
     "output_type": "stream",
     "text": [
      "omitted developer 40 due to length\n",
      "omitted developer 93 due to length\n",
      "omitted developer 233 due to length\n",
      "omitted developer 270 due to length\n",
      "omitted developer 658 due to length\n",
      "omitted developer 720 due to length\n",
      "omitted developer 1041 due to length\n",
      "omitted developer 1103 due to length\n",
      "omitted developer 1249 due to length\n"
     ]
    }
   ],
   "source": [
    "log, start_times = build_log(filtered_df, return_start_times=True)\n",
    "log = filter_doubles(log) "
   ]
  },
  {
   "cell_type": "code",
   "execution_count": 13,
   "id": "4d1073e9",
   "metadata": {},
   "outputs": [],
   "source": [
    "log_old = build_log(filtered_df_old)\n",
    "log_old = filter_doubles(log_old)"
   ]
  },
  {
   "cell_type": "code",
   "execution_count": 14,
   "id": "bd19d7ed",
   "metadata": {},
   "outputs": [
    {
     "name": "stdout",
     "output_type": "stream",
     "text": [
      "not found ['start', 'registered', 'Logged in: Web page - Sign up', 'activated', 'vpcAssignInstance', 'vpcCreateUserOnInstance', 'readyToStart', 'Task event: loggedIn', 'started', 'Task event: 0', 'Give feedback 0', 'Task event: 1', 'Give feedback 1', 'Task event: 2', 'Give feedback 2', 'Task event: 3', 'Give feedback 3', 'Task event: 4', 'waitingForManualScores', 'Task event: 4', 'Logged in: Web page - Task', 'waitingForScores', 'waitingForResultApproval', 'waitingForActivityReport', 'finished', 'finPos']\n"
     ]
    }
   ],
   "source": [
    "for trace_old in log_old:\n",
    "    found = False\n",
    "    for trace in log:\n",
    "        if len(trace) != len(trace_old):\n",
    "            continue\n",
    "        if trace_old == trace:\n",
    "            found = True\n",
    "            break\n",
    "    if not found:\n",
    "        print(\"not found\", trace_old)\n",
    "        break"
   ]
  },
  {
   "cell_type": "code",
   "execution_count": 15,
   "id": "a72ad44b",
   "metadata": {},
   "outputs": [
    {
     "name": "stdout",
     "output_type": "stream",
     "text": [
      "Variants before removing trivial elements\n",
      "437\n"
     ]
    },
    {
     "data": {
      "image/png": "[encoded data removed]",
      "text/plain": [
       "<Figure size 432x288 with 1 Axes>"
      ]
     },
     "metadata": {
      "needs_background": "light"
     },
     "output_type": "display_data"
    }
   ],
   "source": [
    "# variants in log\n",
    "print(\"Variants before removing trivial elements\")\n",
    "variants_counter = Counter(str(e) for e in log)\n",
    "plt.hist(variants_counter.values(), 10)\n",
    "print(len(Counter(str(e) for e in log).keys()))"
   ]
  },
  {
   "cell_type": "markdown",
   "id": "7d7a7268",
   "metadata": {},
   "source": [
    "# Create DFG"
   ]
  },
  {
   "cell_type": "code",
   "execution_count": 134,
   "id": "138ed1d0",
   "metadata": {},
   "outputs": [],
   "source": [
    "# Builds the directly follows graph according to the log\n",
    "# Removes all edges which are traversed less than \"threshold\" times\n",
    "def build_dfg(log, threshold):\n",
    "    states = list(set([item for sublist in log for item in sublist])) # flatten list\n",
    "\n",
    "    edges = []\n",
    "    edge_counter = {}\n",
    "    for trace in log:\n",
    "        s = \"start\"\n",
    "        assert(trace[0]==\"start\")\n",
    "        for pos in trace[1:]:\n",
    "            t = pos\n",
    "            e = (s,t)\n",
    "            if e not in edges:\n",
    "                edges.append(e)\n",
    "                edge_counter[e] = 1\n",
    "            else:\n",
    "                edge_counter[e] = edge_counter[e]+1\n",
    "            s = t\n",
    "    \n",
    "    g = nx.DiGraph()\n",
    "    g.add_nodes_from(states)\n",
    "    max_val = max(edge_counter.values())\n",
    "    for e in edges:\n",
    "        g.add_edge(e[0], e[1], edge_weight = edge_counter[e]/max_val) # adds \"thickness\" element\n",
    "\n",
    "    # remove all simple loops & rarely traversed edges\n",
    "    to_remove = []\n",
    "    for e in g.edges:\n",
    "        if e[0] == e[1]:\n",
    "            to_remove.append(e)\n",
    "        if edge_counter[e] <= threshold:\n",
    "            to_remove.append(e)\n",
    "\n",
    "    for e in to_remove:\n",
    "        if e in g.edges():\n",
    "            g.remove_edge(e[0],e[1])\n",
    "            \n",
    "    \n",
    "    # remove isolated nodes\n",
    "    g.remove_nodes_from(list(nx.isolates(g)))\n",
    "    \n",
    "    return g\n",
    "\n",
    "def draw_dfg(g, name):\n",
    "    # build graph with variable thicknes\n",
    "    scaling = 10/np.mean(list(nx.get_edge_attributes(g,'edge_weight').values()))\n",
    "\n",
    "    A = to_agraph(g)\n",
    "    edge_weights = nx.get_edge_attributes(g,'edge_weight')\n",
    "\n",
    "    for e in edge_weights:\n",
    "        e = A.get_edge(e[0], e[1])\n",
    "        #e.attr[\"penwidth\"] = edge_weights[e]*scaling\n",
    "        e.attr[\"fontsize\"] = \"20\"\n",
    "        if 'controllable' in g.nodes[e[1]]:\n",
    "            if not g.nodes[e[1]]['controllable']:\n",
    "                e.attr[\"style\"] = \"dotted\"\n",
    "    for e in g.edges:\n",
    "        e = A.get_edge(e[0], e[1])\n",
    "        if 'controllable' in g.edges[e]:\n",
    "            if not g.edges[e]['controllable']:\n",
    "                e.attr[\"style\"] = \"dotted\"\n",
    "        #A.add_edge(e[0], e[1], penwidth = edge_weights[e]*scaling)\n",
    "\n",
    "    #A.graph_attr.update(size=\"7.75,10.25\")\n",
    "    A.layout(\"dot\")\n",
    "    if SAVE_ELEMENTS:\n",
    "        A.draw(name)\n",
    "    print(\"plotted\", name)"
   ]
  },
  {
   "cell_type": "code",
   "execution_count": 17,
   "id": "b33d000e",
   "metadata": {},
   "outputs": [
    {
     "name": "stdout",
     "output_type": "stream",
     "text": [
      "plotted graph.ps\n",
      "plotted graph_old.ps\n"
     ]
    }
   ],
   "source": [
    "g = build_dfg(log,4)\n",
    "draw_dfg(g, \"graph.ps\")\n",
    "g_old = build_dfg(log_old,3)\n",
    "draw_dfg(g_old, \"graph_old.ps\")"
   ]
  },
  {
   "cell_type": "markdown",
   "id": "b00e1454",
   "metadata": {},
   "source": [
    "# Burnd-Down Chart of Developers"
   ]
  },
  {
   "cell_type": "code",
   "execution_count": 18,
   "id": "55c169dd",
   "metadata": {},
   "outputs": [],
   "source": [
    "# Draw the burn down chart of developers leaving the journey per touchpoint, Figure 6\n",
    "def draw_burn_down(g,s, t, log):\n",
    "    g_copy = copy.deepcopy(g)\n",
    "    edge_counter = {}\n",
    "    node_counter = {}\n",
    "    \n",
    "    for trace in log:\n",
    "        s = \"start\"\n",
    "        assert(trace[0]==\"start\")\n",
    "        for pos in trace[1:]:\n",
    "            t = pos\n",
    "            e = (s,t)\n",
    "            if e not in edge_counter:\n",
    "                edge_counter[e] = 1\n",
    "            else:\n",
    "                edge_counter[e] = edge_counter[e]+1\n",
    "            s = t\n",
    "            \n",
    "    for trace in log:\n",
    "        for pos in set(trace):\n",
    "            if pos in node_counter:\n",
    "                node_counter[pos] = node_counter[pos]+1\n",
    "            else:\n",
    "                node_counter[pos] = 1\n",
    "            continue\n",
    "\n",
    "    for e in edge_counter:\n",
    "        if e[1] == \"finNeg\":\n",
    "            print(e, edge_counter[e])\n",
    "    \n",
    "    x = [100,81, 72, 64, 52]\n",
    "    y = [\"start\", \"T10\", \"T12\", \"T14\", \"T25\"]\n",
    "    x2 = [0,18,9,9,12]\n",
    "    y2 = [\"start\", \"T10\", \"T12\", \"T14\", \"T25\"]\n",
    "    fig = plt.figure()\n",
    "    ax = fig.add_axes([0,0,1,1])\n",
    "    ax.plot(y,x, 'o-')\n",
    "    ax.bar(y2, x2, color=\"r\")\n",
    "    plt.ylabel(\"Developers (in %)\", fontsize=18)\n",
    "    plt.xlabel(\"Events\", fontsize=18)\n",
    "    plt.show()"
   ]
  },
  {
   "cell_type": "code",
   "execution_count": 19,
   "id": "4991b213",
   "metadata": {},
   "outputs": [
    {
     "name": "stdout",
     "output_type": "stream",
     "text": [
      "('waitingForActivityReport', 'finNeg') 27\n",
      "('Logged in: Web page - Approval', 'finNeg') 10\n",
      "('Task event: loggedIn', 'finNeg') 12\n",
      "('Task event: 1', 'finNeg') 38\n",
      "('Task event: 2', 'finNeg') 25\n",
      "('Task event: 0', 'finNeg') 3\n",
      "('Task event: 4', 'finNeg') 6\n",
      "('Task event: 3', 'finNeg') 13\n",
      "('Logged in: Web page - Task', 'finNeg') 11\n",
      "('Logged in: Web page - Sign up', 'finNeg') 2\n",
      "('vpcAssignInstance', 'finNeg') 1\n",
      "('readyToStart', 'finNeg') 1\n",
      "('waitingForManualScores', 'finNeg') 1\n"
     ]
    },
    {
     "data": {
      "image/png": "[encoded data removed]",
      "text/plain": [
       "<Figure size 432x288 with 1 Axes>"
      ]
     },
     "metadata": {
      "needs_background": "light"
     },
     "output_type": "display_data"
    }
   ],
   "source": [
    "draw_burn_down(g, \"start\", \"finNeg\", log)"
   ]
  },
  {
   "cell_type": "markdown",
   "id": "257e6f04",
   "metadata": {},
   "source": [
    "# DFG to Customer Journey Game"
   ]
  },
  {
   "cell_type": "code",
   "execution_count": 20,
   "id": "a5d9214a",
   "metadata": {},
   "outputs": [],
   "source": [
    "# load actors from given file\n",
    "# The file maps events to actors in xml format\n",
    "# Every unspecified event is controllable\n",
    "with open('activities.xml') as f:\n",
    "    data = f.read()\n",
    "actors = json.loads(data)"
   ]
  },
  {
   "cell_type": "code",
   "execution_count": 21,
   "id": "26f32ae2",
   "metadata": {},
   "outputs": [],
   "source": [
    "# stores actors in graph\n",
    "def extend_graph_with_actors(g, actors):  \n",
    "    for node in g.nodes:\n",
    "        if node not in actors:\n",
    "            g.nodes[node]['controllable'] = True\n",
    "        else:\n",
    "            g.nodes[node]['controllable'] = actors[node] == \"company\""
   ]
  },
  {
   "cell_type": "code",
   "execution_count": 22,
   "id": "b4a08a3e",
   "metadata": {},
   "outputs": [],
   "source": [
    "extend_graph_with_actors(g,actors)"
   ]
  },
  {
   "cell_type": "code",
   "execution_count": 23,
   "id": "52b623a3",
   "metadata": {},
   "outputs": [],
   "source": [
    "# Helper functions to compute weights for edges\n",
    "\n",
    "def isInTrace(s,t, trace):\n",
    "    for i in range(len(trace)-1):\n",
    "        if trace[i] == s and trace[i+1] == t:\n",
    "            return True\n",
    "    return False\n",
    "\n",
    "def weight(trace):\n",
    "    return 1 if any(\"finished\" in pos for pos in trace) else -1\n",
    "\n",
    "def majority(s,t,log):\n",
    "    maj = 0\n",
    "    for trace in log:\n",
    "        if isInTrace(s,t,trace):\n",
    "            maj += weight(trace)\n",
    "    return 1 if maj == 0 else int(maj/abs(maj))\n",
    "\n",
    "def entropy(p1, p2):\n",
    "    if p1 == 0 or p2 == 0:\n",
    "        return 0\n",
    "    return - p1*np.log2(p1) - p2* np.log2(p2)\n",
    "\n",
    "def distribution(s,t,log, edge_mapping = []):\n",
    "    distr = {1.0: 0 , -1.0 : 0}\n",
    "    if edge_mapping == []: # old function\n",
    "        for trace in log:\n",
    "            if isInTrace(s,t,trace):\n",
    "                w = weight(trace)\n",
    "                distr[w] += 1\n",
    "    else:# use abstraction\n",
    "        assert((s,t) in edge_mapping)\n",
    "        for trace_index in edge_mapping[(s,t)]:\n",
    "            w = weight(log[trace_index])\n",
    "            distr[w] += 1 #\n",
    "    return distr[1], distr[-1]\n",
    "\n",
    "def compute_edge_cost(g, log, edge_mapping = []):\n",
    "    weights = [1 if \"finished\" in i else -1 for i in log]\n",
    "    edge_cost = {}\n",
    "    for s in g.nodes:\n",
    "        for t in g[s]:\n",
    "            p1, p2 = distribution(s,t,log, edge_mapping)\n",
    "            if p1 +  p2 == 0:\n",
    "                assert(False)\n",
    "            wp1 = p1/(p1+p2)\n",
    "            wp2 = p2/(p1+p2)\n",
    "            #w = majority(s,t,log)\n",
    "            w = 1 if p1 >= p2 else -1\n",
    "            scaling = 10\n",
    "            edge_cost[(s,t)] = (((1-entropy(wp1,wp2)) * w) -0.1 )*20\n",
    "    print(\"Edge cost was computed\")\n",
    "    return edge_cost"
   ]
  },
  {
   "cell_type": "code",
   "execution_count": 24,
   "id": "19118ac6",
   "metadata": {},
   "outputs": [
    {
     "name": "stdout",
     "output_type": "stream",
     "text": [
      "Edge cost was computed\n"
     ]
    }
   ],
   "source": [
    "edge_cost = compute_edge_cost(g, log)"
   ]
  },
  {
   "cell_type": "code",
   "execution_count": 25,
   "id": "f7630914",
   "metadata": {},
   "outputs": [],
   "source": [
    "# annotates graph with cost-labels\n",
    "def annotate_graph(g, edge_cost):\n",
    "    for e in edge_cost:\n",
    "        g[e[0]][e[1]]['label'] = round(edge_cost[e],2)\n",
    "    return g\n",
    "\n",
    "# Colors graph labels green/red depending of the weight is positive or negative\n",
    "def color_graph(g):\n",
    "    g = copy.deepcopy(g)\n",
    "    for e in g.edges:\n",
    "        if g[e[0]][e[1]]['label'] > 0:\n",
    "            g[e[0]][e[1]]['color'] =\"darkgreen\"\n",
    "        if g[e[0]][e[1]]['label'] < 0:\n",
    "            g[e[0]][e[1]]['color'] =\"red\"\n",
    "    \n",
    "    return g\n",
    "\n",
    "# Plots clustered DFG, Figure 5\n",
    "def draw_dfg_clustered(g, name):\n",
    "    # build graph with variable thicknes\n",
    "    scaling = 10/np.mean(list(nx.get_edge_attributes(g,'edge_weight').values()))\n",
    "\n",
    "    A = to_agraph(g)\n",
    "    edge_weights = nx.get_edge_attributes(g,'edge_weight')\n",
    "\n",
    "    for e in edge_weights:\n",
    "        e = A.get_edge(e[0], e[1])\n",
    "        #e.attr[\"penwidth\"] = edge_weights[e]*scaling\n",
    "        e.attr[\"fontsize\"] = 70\n",
    "        if 'controllable' in g.nodes[e[1]]:\n",
    "            if not g.nodes[e[1]]['controllable']:\n",
    "                e.attr[\"style\"] = \"dotted\"\n",
    "\n",
    "    for n in A.nodes():\n",
    "        n.attr['fontsize'] = 80\n",
    "    onboarding = [\"T\"+str(i) for i in range(0,6)]\n",
    "    A.add_subgraph(onboarding, name='cluster_onboarding', label= \"Sign-up\", color = \"orange\", fontsize = 60, fontcolor = \"orange\")\n",
    "    task = [\"T\"+str(i) for i in range(6,21)]\n",
    "    A.add_subgraph(task, name='cluster_task', label= \"Solve tasks\", color = \"blue\", fontsize = 60, fontcolor = \"blue\")\n",
    "    evaluation = [\"T\"+str(i) for i in range(21,27)]\n",
    "    A.add_subgraph(evaluation, name='cluster_evaluation', label= \"Review and share\", color = \"purple\", fontsize = 60, fontcolor = \"purple\")\n",
    "\n",
    "    reversed_naming = {naming[i] : i for i in naming}\n",
    "    for n in A.nodes():\n",
    "        if n not in reversed_naming:\n",
    "            continue\n",
    "        n.attr['label'] = reversed_naming[n]\n",
    "    A.layout(\"dot\")\n",
    "    if SAVE_ELEMENTS:\n",
    "        A.draw(name)\n",
    "        \n",
    "# Introduced naming for readable function\n",
    "naming = {\n",
    "    \"registered\" : \"T0\",\n",
    "    \"activated\": \"T1\",\n",
    "    \"Logged in: Web page - Sign up\" : \"T2\",\n",
    "    \"vpcCreateUserOnInstance\" : \"T3\",\n",
    "    \"vpcAssignInstance\" : \"T4\",\n",
    "    \"readyToStart\" : \"T5\",\n",
    "    \"Task event: loggedIn\" : \"T6\",\n",
    "    \"started\" : \"T7\",\n",
    "    \"Task event: 0\": \"T8\",\n",
    "    \"Give feedback 0\" : \"T9\",\n",
    "    \"Task event: 1\": \"T10\",\n",
    "    \"Give feedback 1\" : \"T11\",\n",
    "    \"Task event: 2\": \"T12\",\n",
    "    \"Give feedback 2\" : \"T13\",\n",
    "    \"Task event: 3\": \"T14\",\n",
    "    \"Give feedback 3\" : \"T15\",\n",
    "    \"Task event: 4\": \"T16\",\n",
    "    \"Give feedback 4\" : \"T17\",\n",
    "    \"Task event: 5\": \"T18\",\n",
    "    \"waitingForManualScores\" : \"T19\",\n",
    "    \"Logged in: Web page - Task\" : \"T20\",\n",
    "    \"waitingForScores\" : \"T21\",\n",
    "    \"waitingForResultApproval\" : \"T22\",\n",
    "    \"waitingForSubjectAcceptance\" : \"T23\",\n",
    "    \"subjectAcceptanceReceived\" : \"T24\",\n",
    "    \"Results automatically shared\" : \"T24\",\n",
    "    \"waitingForActivityReport\" : \"T25\",\n",
    "    \"Logged in: Web page - Approval\" : \"T26\"\n",
    "}"
   ]
  },
  {
   "cell_type": "code",
   "execution_count": 26,
   "id": "565c2244",
   "metadata": {
    "scrolled": true
   },
   "outputs": [],
   "source": [
    "g = annotate_graph(g, edge_cost)\n",
    "g_outgoing = color_graph(g)\n",
    "g_outgoing = nx.relabel_nodes(g_outgoing, naming)\n",
    "draw_dfg_clustered(g_outgoing, 'outgoing_clustered.png')"
   ]
  },
  {
   "cell_type": "markdown",
   "id": "e48a7373",
   "metadata": {},
   "source": [
    "# Mapping to UPPAAL Model"
   ]
  },
  {
   "cell_type": "code",
   "execution_count": 27,
   "id": "e38299ee",
   "metadata": {},
   "outputs": [],
   "source": [
    "# Computes all possible shift of lists\n",
    "def shifted_lists(l):\n",
    "    shifted_lists = []\n",
    "    for j in range(len(l)):\n",
    "        list_constructed = copy.deepcopy(l[j:])\n",
    "        list_constructed.extend(l[:j])\n",
    "        list_constructed.append(list_constructed[0])\n",
    "        shifted_lists.append(list_constructed)\n",
    "    return shifted_lists\n",
    "\n",
    "# checks if history hist contains circle c\n",
    "def contains(hist, c):\n",
    "    n = len(c)+1\n",
    "    max_count = 0\n",
    "    lists = shifted_lists(c)\n",
    "    for helper_list in lists:\n",
    "        count = 0\n",
    "        for i in range(len(hist)-(n-1)):\n",
    "            if hist[i:i+n] == helper_list:\n",
    "                count += 1\n",
    "        max_count = max(max_count, count)\n",
    "    return max_count\n",
    "\n",
    "# returns true if edge (e,v) is on c\n",
    "def is_on(e,v,c):\n",
    "    for i in range(len(c)-1):\n",
    "        if c[i] == e and c[i+1] == v:\n",
    "            return True\n",
    "    if c[-1] == e and c[0] == v:\n",
    "        return True\n",
    "\n",
    "\n",
    "# Presented Unrolling algorithm, Algorithm 1 with online reducing\n",
    "def unroll(G, start, target, k, debug = False):\n",
    "    G_gen = nx.DiGraph()\n",
    "    G_gen.add_node(start, hist = [str(start)])\n",
    "    if 'controllable' in G.nodes[start]:\n",
    "        G_gen.nodes[start][\"controllable\"] = G.nodes[start][\"controllable\"]\n",
    "\n",
    "    cycles = list(nx.simple_cycles(G))\n",
    "\n",
    "    queue = [start]\n",
    "    # start bf-search\n",
    "    while(queue):\n",
    "        s = queue[0]\n",
    "        queue.pop(0)\n",
    "        s_original = str(s).split(\".\")[0]\n",
    "        neighbours = list(G[s_original])\n",
    "        for t in neighbours:\n",
    "            t_original = t\n",
    "            local_hist = copy.deepcopy(G_gen.nodes[s][\"hist\"])\n",
    "            local_hist.append(str(t_original))\n",
    "            is_on_cycle = False\n",
    "            can_traverse = False\n",
    "            path = []\n",
    "            circle = []\n",
    "            relevant_cycle = []\n",
    "            for c in cycles:\n",
    "                if is_on(s_original,t_original,c):\n",
    "                    relevant_cycle.append(c)\n",
    "                    \n",
    "            all_smaller = True\n",
    "            for c in relevant_cycle:\n",
    "                if contains(local_hist,c) >= k:\n",
    "                    all_smaller = False\n",
    "            \n",
    "            if not all_smaller:\n",
    "                paths = list(nx.all_simple_paths(G, source=t, target=target))\n",
    "                for p in paths:\n",
    "                    merged_hist = copy.deepcopy(local_hist)\n",
    "                    merged_hist.extend(p[1:]) # 1.st element already added\n",
    "                    can_not_traverse = False\n",
    "                    \n",
    "                    #test if no loop larger than k with path\n",
    "                    for c_loop in relevant_cycle:\n",
    "                        if contains(merged_hist,c_loop) > k : # check that there is path without completing additional cycle\n",
    "                            can_not_traverse = True\n",
    "                    can_traverse = not can_not_traverse\n",
    "            if all_smaller or can_traverse:               \n",
    "                #every node not on cycle can be unqiue (\"merge point\" within unrolled graph)\n",
    "                if relevant_cycle:\n",
    "                    while t in G_gen.nodes:\n",
    "                        if \".\" not in t:\n",
    "                            t += \".1\"\n",
    "                        else:\n",
    "                            t = t.split(\".\")[0]+\".\"+str(int(t.split(\".\")[-1])+1)\n",
    "                # add node t only to graph if not already treated\n",
    "\n",
    "                if t not in queue:\n",
    "                    queue.append(t)\n",
    "                    G_gen.add_node(t, hist = local_hist)\n",
    "                assert(s in G_gen and t in G_gen)\n",
    "                G_gen.add_edge(s,t)\n",
    "                if('label' in G[s_original][t_original]):\n",
    "                    G_gen[s][t]['label'] = G[s_original][t_original]['label']\n",
    "                if('controllable' in G[s_original][t_original]): # transition systems store controllability in edges\n",
    "                    G_gen[s][t]['controllable'] = G[s_original][t_original]['controllable']\n",
    "                if('controllable' in G.nodes[t_original]): # dfg stores in nodes\n",
    "                    G_gen.nodes[t]['controllable'] = G.nodes[t_original]['controllable']\n",
    "\n",
    "    print(\"Graph was unrolled\")\n",
    "    return G_gen"
   ]
  },
  {
   "cell_type": "code",
   "execution_count": 28,
   "id": "e0555595",
   "metadata": {},
   "outputs": [],
   "source": [
    "#g_unroll = unroll(g, \"start\", [\"finPos\", \"finNeg\"], 1)\n",
    "#A = to_agraph(g_unroll)\n",
    "#A.layout('dot')\n",
    "#if SAVE_ELEMENTS:\n",
    "#    A.draw('unrolled.ps')"
   ]
  },
  {
   "cell_type": "code",
   "execution_count": 29,
   "id": "93488cbc",
   "metadata": {},
   "outputs": [],
   "source": [
    "# Method to produce unrolled graph\n",
    "def to_uppaal(g):\n",
    "    f = open(\"unrolled_graph.xml\", \"w+\")\n",
    "    \n",
    "    pos = nx.drawing.nx_agraph.graphviz_layout(g, prog='dot', args='-Grankdir=LR')\n",
    "\n",
    "    f.write('<?xml version=\"1.0\" encoding=\"utf-8\"?>')\n",
    "    f.write(\"<!DOCTYPE nta PUBLIC '-//Uppaal Team//DTD Flat System 1.1//EN' 'http://www.it.uu.se/research/group/darts/uppaal/flat-1_1.dtd'>\")\n",
    "    f.write('<nta>')\n",
    "    f.write('<declaration>')\n",
    "    f.write('int gas = 0;')\n",
    "    f.write('\\n'+'int finalGasMax = 0;')\n",
    "    f.write('\\n'+'int finalGasMin = 10000;')\n",
    "    f.write('\\n'+'clock x;')\n",
    "    f.write('\\n'+'hybrid clock t;')\n",
    "    f.write('\\n'+'int steps;')\n",
    "    f.write('</declaration>')\n",
    "    f.write('<template>')\n",
    "    f.write('<name x=\"5\" y=\"5\">Template</name>')\n",
    "    \n",
    "    # print locations\n",
    "    ids = {}\n",
    "    for s,i in zip(pos, range(len(pos))):\n",
    "        ids[s] = i\n",
    "        print_location(f, \"id\"+str(i),pos[s][0],pos[s][1],s)\n",
    "    \n",
    "    f.write('<init ref=\"id'+str(ids['start'])+'\"/>')\n",
    "    for e in g.edges:\n",
    "        final = True if \"finPos\" in e[1] or \"finNeg\" in e[1] else False\n",
    "        print_edge(f, ids[e[0]], ids[e[1]], pos[e[0]], pos[e[1]], g[e[0]][e[1]]['label'], g.nodes[e[1]]['controllable'], final = final)\n",
    "    f.write('</template>')\n",
    "    f.write('<system>')\n",
    "    f.write('Journey = Template();')\n",
    "    f.write('system Journey;')\n",
    "    f.write('</system>')\n",
    "    f.write('</nta>')\n",
    "    f.close()\n",
    "    print(\"All written to\", f.name)\n",
    "\n",
    "def print_location(f, location_id, x, y, name):\n",
    "    f.write('<location id=\"'+location_id+'\" x=\"'+str(int(x))+'\" y=\"'+str(int(y))+'\">')\n",
    "    f.write('<name x=\"'+str(int(x))+'\" y=\"'+str(int(y))+'\">'+str(name).replace(\":\", \"\").replace(\" \",\"\").replace(\".\", \"\").replace(\",\", \"\").replace(\"-\",\"\")+'</name>')\n",
    "    f.write('<label kind=\"invariant\" x=\"'+str(int(x))+'\" y=\"'+str(int(y))+'\">')\n",
    "    if \"finPos\" not in name and \"finNeg\" not in name:\n",
    "        f.write('x &lt;= ' + str(2))\n",
    "    else:\n",
    "        f.write(\"t'==0\")\n",
    "    f.write('</label>')\n",
    "    f.write('</location>')\n",
    "\n",
    "def print_edge(f, s, t, pos_s, pos_t, weight, controllable, final = False):\n",
    "    x = (pos_s[0]+pos_t[0])/2\n",
    "    y = (pos_s[1]+pos_t[1])/2\n",
    "    if controllable:\n",
    "        f.write('<transition action = \"\">')\n",
    "    else:\n",
    "        f.write('<transition controllable=\"false\" action = \"\">')\n",
    "    f.write('<source ref=\"id'+str(s)+'\"/>')\n",
    "    f.write('<target ref=\"id'+str(t)+'\"/>')\n",
    "    \n",
    "    f.write('<label kind=\"assignment\" x=\"'+str(int(x))+'\" y=\"'+str(int(y))+'\">')\n",
    "    if final:\n",
    "        f.write('finalGasMax = gas +'+str(int(round(weight))))\n",
    "        f.write(',\\n'+'finalGasMin = gas +'+str(int(round(weight))))\n",
    "        f.write(',\\n'+ 'gas = gas + '+str(int(round(weight))))\n",
    "    else:\n",
    "        f.write('gas = gas + '+str(int(round(weight))))\n",
    "    \n",
    "    f.write(',\\n'+ 'steps += 1')\n",
    "    f.write(',\\n'+ 'x = 0')\n",
    "    \n",
    "    f.write('</label>')\n",
    "    \n",
    "    f.write('</transition>')\n"
   ]
  },
  {
   "cell_type": "code",
   "execution_count": 30,
   "id": "5016b509",
   "metadata": {},
   "outputs": [],
   "source": [
    "#if SAVE_ELEMENTS:\n",
    "#    to_uppaal(g_unroll)"
   ]
  },
  {
   "cell_type": "markdown",
   "id": "bdcd8044",
   "metadata": {},
   "source": [
    "##  UPPAAL\n",
    "This generated model can then by model checked with UPPAAL."
   ]
  },
  {
   "cell_type": "markdown",
   "id": "46d6bb06",
   "metadata": {},
   "source": [
    "# Generate Simulation Plot\n",
    "Generates comparison plot between GoPos and GoPosFast, Figure 7"
   ]
  },
  {
   "cell_type": "code",
   "execution_count": 31,
   "id": "e5151680",
   "metadata": {},
   "outputs": [
    {
     "data": {
      "image/png": "[encoded data removed]",
      "text/plain": [
       "<Figure size 432x288 with 1 Axes>"
      ]
     },
     "metadata": {
      "needs_background": "light"
     },
     "output_type": "display_data"
    }
   ],
   "source": [
    "def read_csv(path):\n",
    "    simulations = []\n",
    "    lines = []\n",
    "    with open(path) as file:\n",
    "        lines = file.readlines()\n",
    "        lines = [line.rstrip() for line in lines]\n",
    "    lines = [line for line in lines if \"##\" not in line]\n",
    "    lines.pop(0)\n",
    "    x = []\n",
    "    y = []\n",
    "    current_x = []\n",
    "    current_y = []\n",
    "    current_simulation = []\n",
    "    for line in lines:\n",
    "        if \"#\" in line:\n",
    "            current_x.append(30)\n",
    "            current_y.append(current_y[-1])\n",
    "            x.append(current_x)\n",
    "            y.append(current_y)\n",
    "            current_x = []\n",
    "            current_y = []\n",
    "        else:\n",
    "            current_x.append(float(line.split(\",\")[0]))\n",
    "            current_y.append(float(line.split(\",\")[1]))\n",
    "    return x,y\n",
    "\n",
    "x,y = read_csv(\"gopos.csv\")\n",
    "x_fast, y_fast = read_csv(\"goposfast.csv\")\n",
    "plt.rcParams[\"figure.autolayout\"] = True\n",
    "for i in range(len(x)):\n",
    "    if i == len(x)-1:\n",
    "        plt.plot(x[i],y[i], c = \"r\", linewidth = 1, label = \"GoPos\")\n",
    "    else:\n",
    "        plt.plot(x[i],y[i], c = \"r\", linewidth = 1)\n",
    "for i in range(len(x_fast)):\n",
    "    if i == len(x_fast)-1:\n",
    "        plt.plot(x_fast[i],y_fast[i], c = \"b\", linewidth = 1, label = \"GoPosFast\")\n",
    "    else:\n",
    "        plt.plot(x_fast[i],y_fast[i], c = \"b\", linewidth = 1)\n",
    "plt.legend()\n",
    "plt.savefig(\"simulation.png\")\n",
    "plt.xlabel(\"Time (t)\",  fontsize=18)\n",
    "plt.ylabel(\"Gas\",  fontsize=18)\n",
    "plt.show()"
   ]
  },
  {
   "attachments": {},
   "cell_type": "markdown",
   "id": "1290ebbe",
   "metadata": {},
   "source": [
    "# Analysing Time Series"
   ]
  },
  {
   "cell_type": "code",
   "execution_count": 32,
   "id": "b27eeb85",
   "metadata": {},
   "outputs": [],
   "source": [
    "for trace in log:\n",
    "    if \"vpcCreateUserOnInstance\" not in trace:\n",
    "        print(trace)\n",
    "        assert(False)\n",
    "    if \"vpcAssignInstance\" not in trace:\n",
    "        print(trace)\n",
    "        assert(False)"
   ]
  },
  {
   "cell_type": "code",
   "execution_count": 33,
   "id": "45aa7597",
   "metadata": {},
   "outputs": [],
   "source": [
    "# sort log with start_times\n",
    "\n",
    "def sliding_window_logs(log, start_times, window_size_seconds, min_size = 10):\n",
    "    merged = [(log, start_time) for log, start_time in zip (log, start_times)]\n",
    "    start_times_sorted = sorted(merged, key=lambda item: item[1])\n",
    "    sorted_log = [s[0] for s in start_times_sorted]\n",
    "    sorted_times = [s[1] for s in start_times_sorted]\n",
    "\n",
    "    assert(sorted(start_times) == sorted_times)\n",
    "    sliced_logs = []\n",
    "\n",
    "    for current_start in sorted_times:\n",
    "        current_log = []\n",
    "        for trace, start_time in zip(log, sorted_times):\n",
    "            if start_time < current_start:\n",
    "                continue\n",
    "            if (start_time - current_start).total_seconds() > window_size_seconds:\n",
    "                break\n",
    "            current_log.append(trace)\n",
    "        if len(current_log)>min_size:\n",
    "            sliced_logs.append(current_log)\n",
    "\n",
    "    return sliced_logs\n",
    "sliced_logs = sliding_window_logs(log, start_times, WINDOW_SIZE)"
   ]
  },
  {
   "cell_type": "code",
   "execution_count": 34,
   "id": "ea3781ff",
   "metadata": {},
   "outputs": [
    {
     "name": "stdout",
     "output_type": "stream",
     "text": [
      "507\n"
     ]
    },
    {
     "data": {
      "image/png": "[encoded data removed]",
      "text/plain": [
       "<Figure size 432x288 with 1 Axes>"
      ]
     },
     "metadata": {
      "needs_background": "light"
     },
     "output_type": "display_data"
    },
    {
     "data": {
      "image/png": "[encoded data removed]",
      "text/plain": [
       "<Figure size 432x288 with 1 Axes>"
      ]
     },
     "metadata": {
      "needs_background": "light"
     },
     "output_type": "display_data"
    }
   ],
   "source": [
    "print(len(sliced_logs))\n",
    "plt.hist([len(l) for l in sliced_logs])\n",
    "plt.title(\"Histogram of number of users per window\")\n",
    "plt.show()\n",
    "\n",
    "fractions = []\n",
    "for l in sliced_logs:\n",
    "    pos = [t for t in l if \"finPos\" in t]\n",
    "    neg = [t for t in l if \"finNeg\" in t]\n",
    "    fractions.append(len(pos)/len(l))\n",
    "    assert(len(pos)+len(neg) == len(l))\n",
    "plt.scatter(range(len(fractions)), fractions, s = 3)\n",
    "plt.title(\"Fraction of successful users\")\n",
    "plt.show()"
   ]
  },
  {
   "cell_type": "code",
   "execution_count": 94,
   "id": "4122c9fc",
   "metadata": {},
   "outputs": [
    {
     "name": "stdout",
     "output_type": "stream",
     "text": [
      "Edge cost was computed\n",
      "plotted ./gif/graph1.png\n",
      "Edge cost was computed\n",
      "plotted ./gif/graph2.png\n",
      "Edge cost was computed\n",
      "plotted ./gif/graph3.png\n",
      "Edge cost was computed\n",
      "plotted ./gif/graph4.png\n",
      "Edge cost was computed\n",
      "plotted ./gif/graph5.png\n",
      "Edge cost was computed\n",
      "plotted ./gif/graph6.png\n",
      "Edge cost was computed\n",
      "plotted ./gif/graph7.png\n",
      "Edge cost was computed\n",
      "plotted ./gif/graph8.png\n",
      "Edge cost was computed\n",
      "plotted ./gif/graph9.png\n",
      "Edge cost was computed\n",
      "plotted ./gif/graph10.png\n",
      "Edge cost was computed\n",
      "plotted ./gif/graph11.png\n",
      "Edge cost was computed\n",
      "plotted ./gif/graph12.png\n",
      "Edge cost was computed\n",
      "plotted ./gif/graph13.png\n",
      "Edge cost was computed\n",
      "plotted ./gif/graph15.png\n",
      "Edge cost was computed\n",
      "plotted ./gif/graph16.png\n",
      "Edge cost was computed\n",
      "plotted ./gif/graph17.png\n",
      "Edge cost was computed\n",
      "plotted ./gif/graph18.png\n",
      "Edge cost was computed\n",
      "plotted ./gif/graph19.png\n",
      "Edge cost was computed\n",
      "plotted ./gif/graph20.png\n",
      "Edge cost was computed\n",
      "plotted ./gif/graph21.png\n",
      "Edge cost was computed\n",
      "plotted ./gif/graph22.png\n",
      "Edge cost was computed\n",
      "plotted ./gif/graph23.png\n",
      "Edge cost was computed\n",
      "plotted ./gif/graph24.png\n",
      "Edge cost was computed\n",
      "plotted ./gif/graph25.png\n",
      "Edge cost was computed\n",
      "plotted ./gif/graph26.png\n",
      "Edge cost was computed\n",
      "plotted ./gif/graph27.png\n",
      "Edge cost was computed\n",
      "plotted ./gif/graph28.png\n",
      "Edge cost was computed\n",
      "plotted ./gif/graph29.png\n",
      "Edge cost was computed\n",
      "plotted ./gif/graph30.png\n",
      "Edge cost was computed\n",
      "plotted ./gif/graph31.png\n",
      "Edge cost was computed\n",
      "plotted ./gif/graph32.png\n",
      "Edge cost was computed\n",
      "plotted ./gif/graph33.png\n",
      "Edge cost was computed\n",
      "plotted ./gif/graph34.png\n",
      "Edge cost was computed\n",
      "plotted ./gif/graph35.png\n",
      "Edge cost was computed\n",
      "plotted ./gif/graph36.png\n",
      "Edge cost was computed\n",
      "plotted ./gif/graph37.png\n",
      "Edge cost was computed\n",
      "plotted ./gif/graph38.png\n",
      "Edge cost was computed\n",
      "plotted ./gif/graph39.png\n",
      "Edge cost was computed\n",
      "plotted ./gif/graph40.png\n",
      "Edge cost was computed\n",
      "plotted ./gif/graph41.png\n",
      "Edge cost was computed\n",
      "plotted ./gif/graph42.png\n",
      "Edge cost was computed\n",
      "plotted ./gif/graph43.png\n",
      "Edge cost was computed\n",
      "plotted ./gif/graph44.png\n",
      "Edge cost was computed\n",
      "plotted ./gif/graph45.png\n",
      "Edge cost was computed\n",
      "plotted ./gif/graph46.png\n",
      "Edge cost was computed\n",
      "plotted ./gif/graph47.png\n",
      "Edge cost was computed\n",
      "plotted ./gif/graph48.png\n",
      "Edge cost was computed\n",
      "plotted ./gif/graph49.png\n",
      "Edge cost was computed\n",
      "plotted ./gif/graph50.png\n",
      "not connected\n",
      "plotted graph_error.ps\n",
      "plotted graph_error.ps\n",
      "Successfully computed 0\n"
     ]
    }
   ],
   "source": [
    "def time_analysis(sliced_logs, edge_threshold_start = 3, compute_distance = True):\n",
    "    result_dict = {\n",
    "        \"loops\" : [],\n",
    "        \"mc_results\" : [],\n",
    "        \"distances\" : [],\n",
    "        \"colors\" : [],\n",
    "        \"distanced_previous\" : [0],\n",
    "        \"fractions\" : [],\n",
    "        \"edge_thresholds\" : [],\n",
    "        \"sums\" : [],\n",
    "        \"accuracies\" : [],\n",
    "        \"images\" : [],\n",
    "        \"negative_edges\" : []\n",
    "    }\n",
    "\n",
    "    omitted_counter = 0\n",
    "    successfully_computed = 0\n",
    "\n",
    "    for l in sliced_logs:\n",
    "        result_dict[\"fractions\"].append(len([t for t in l if \"finPos\" in t])/len(l))\n",
    "        edge_threshold = edge_threshold_start\n",
    "\n",
    "        if compute_distance:\n",
    "            if len(result_dict[\"distances\"]) > 0:\n",
    "                result_dict[\"distances_previous\"].append(nx.graph_edit_distance(build_dfg(l, edge_threshold), help_g, timeout = 10))\n",
    "\n",
    "        help_g = build_dfg(l, edge_threshold)\n",
    "\n",
    "        while not nx.is_weakly_connected(help_g) or not \"finPos\" in list(nx.descendants(help_g, \"start\")):\n",
    "            print(\"not connected\")\n",
    "            draw_dfg(help_g, \"graph_error.ps\")\n",
    "            edge_threshold -= 1\n",
    "            if edge_threshold == -1:\n",
    "                assert(False)\n",
    "            help_g = build_dfg(l, edge_threshold)\n",
    "            draw_dfg(help_g, \"graph_error.ps\")\n",
    "\n",
    "        loop_number = len(list(nx.simple_cycles(help_g)))\n",
    "        while(loop_number > 6):\n",
    "            edge_threshold += 1\n",
    "            help_g = build_dfg(l, edge_threshold)\n",
    "            loop_number = len(list(nx.simple_cycles(help_g)))\n",
    "\n",
    "        if compute_distance:\n",
    "            print(\"compute distance\")\n",
    "            result_dict[\"distances\"].append(nx.graph_edit_distance(g_old, help_g, timeout = 10))\n",
    "        #assert(nx.is_weakly_connected(help_g))\n",
    "        result_dict[\"loops\"].append(loop_number)\n",
    "        result_dict[\"edge_thresholds\"].append(edge_threshold)\n",
    "        #while len(list(nx.simple_cycles(help_g)))>8:\n",
    "        #    edge_threshold += 1\n",
    "        #    help_g = build_dfg(l, edge_threshold)\n",
    "        #    print(\"in loop\")\n",
    "        if len(list(nx.simple_cycles(help_g))) > 6 or not nx.is_weakly_connected(help_g) or not \"finPos\" in list(nx.descendants(help_g, \"start\")):\n",
    "            omitted_counter += 1\n",
    "            result_dict[\"colors\"].append(\"r\")\n",
    "            continue\n",
    "        extend_graph_with_actors(help_g,actors)\n",
    "        help_edge_cost = compute_edge_cost(help_g, l)\n",
    "\n",
    "        negative_edges = [e for e in help_edge_cost if help_edge_cost[e] < 0]\n",
    "        result_dict[\"negative_edges\"].append(negative_edges)\n",
    "\n",
    "        sums = [] #sums for log\n",
    "        for trace in l:\n",
    "            running_sum = 0\n",
    "            pairs = [(trace[i], trace[i+1]) for i in range(len(trace)-1)]\n",
    "            running_sum = sum(help_edge_cost[p] for p in pairs if p in help_edge_cost)\n",
    "            sums.append(running_sum)\n",
    "        result_dict[\"sums\"].append(running_sum)\n",
    "\n",
    "        # think more if accuracies good to include - seems to be difficult to defend...\n",
    "        #\n",
    "        #true_values = [\"finPos\" in t for t in l]\n",
    "        #print(\"true vals\", true_values)\n",
    "        #print(len([t for t in l if \"finPos\" in t])/len(l))\n",
    "        #correct_value = 0\n",
    "        #for i in range(len(sums)):\n",
    "        #    print(sums[i], true_values[i],sums[i]*true_values[i] )\n",
    "        #    if sums[i]>0 and true_values[i] :\n",
    "        #        correct_value+=1\n",
    "        #print(\"accuracy\", correct_value, len(l))\n",
    "        #result_dict[\"accuracies\"].append(correct_value/len(l))\n",
    "\n",
    "        help_g = annotate_graph(help_g, help_edge_cost)\n",
    "        help_g_outgoing = color_graph(help_g)\n",
    "        \n",
    "        if \"start\" not in help_g.nodes:\n",
    "            print(len(l))\n",
    "            print(l)\n",
    "            draw_dfg(help_g, \"graph_error.ps\")\n",
    "        \n",
    "        file_name = \"./gif/graph\"+str(len(result_dict[\"loops\"]))+\".png\"\n",
    "        to_gif_g = copy.deepcopy(help_g)\n",
    "        for e in to_gif_g.edges:\n",
    "            if help_edge_cost[e] < 0:\n",
    "                to_gif_g.edges[e]['color'] = \"red\"\n",
    "        draw_dfg(to_gif_g, file_name)\n",
    "        result_dict[\"images\"].append(file_name)\n",
    "        continue\n",
    "\n",
    "        help_g_unroll = unroll(help_g, \"start\", [\"finPos\", \"finNeg\"], 1)\n",
    "        draw_dfg(help_g, \"graph_loops.ps\")\n",
    "        #draw_dfg(help_g_unroll, \"graph_loops_unrolled.ps\")\n",
    "        to_uppaal(help_g_unroll)\n",
    "\n",
    "        out = subprocess.Popen([VERIFYTA_PATH, \"/home/paul/Documents/User-Journey-Games/unrolled_graph.xml\", \"/home/paul/Documents/User-Journey-Games/unrolled_graph.q\"], stdout=subprocess.PIPE, stderr = subprocess.PIPE)\n",
    "        out.wait()\n",
    "        results, err = out.communicate()\n",
    "        results = results.decode(\"utf-8\") \n",
    "        err = err.decode(\"utf-8\") \n",
    "        if err != \"\":\n",
    "            results = [-1,-1,-1,-1,-1,-1]\n",
    "        else:\n",
    "            results = results.split(\"\\n\")\n",
    "            results = [results[i+1] for i in range(len(results)-1) if \"Formula\" in results[i] and \"E\" in results[i+1]]\n",
    "            results = [r.replace(\"≈\", \"\") for r in results]\n",
    "            results = [float(r.split(\"±\")[0].split(\"runs)\")[1].split(\"=\")[1].strip()) for r in results]\n",
    "            successfully_computed += 1\n",
    "        assert(len(results) == 6)\n",
    "\n",
    "        result_dict[\"mc_results\"].append(results)\n",
    "        \n",
    "        result_dict[\"colors\"].append(\"b\" if list(set(results)) == [-1] else \"g\")\n",
    "        print(\"Progress\", len(result_dict[\"loops\"]), \"/\", len(sliced_logs))\n",
    "\n",
    "    print(\"Successfully computed\", successfully_computed)\n",
    "    return result_dict\n",
    "\n",
    "sliced_logs = sliding_window_logs(log, start_times, WINDOW_SIZE)\n",
    "sliced_logs = sliced_logs[::10]\n",
    "result_dict = time_analysis(sliced_logs, compute_distance=False)"
   ]
  },
  {
   "cell_type": "code",
   "execution_count": 104,
   "id": "d7119eb5",
   "metadata": {},
   "outputs": [
    {
     "data": {
      "image/png": "[encoded data removed]",
      "text/plain": [
       "<Figure size 1080x1080 with 10 Axes>"
      ]
     },
     "metadata": {
      "needs_background": "light"
     },
     "output_type": "display_data"
    }
   ],
   "source": [
    "def plot_results(result_dict):\n",
    "    colors = result_dict[\"colors\"]\n",
    "    fig, axs = plt.subplots(5, 2, figsize=(15, 15))\n",
    "    axs[0,0].hist(result_dict[\"loops\"], 20)\n",
    "\n",
    "    axs[0,1].scatter(range(len(result_dict[\"loops\"])), result_dict[\"loops\"], s = 2)\n",
    "    axs[0,1].set_title(\"Loops\")\n",
    "\n",
    "    #axs[1,0].scatter(range(len(result_dict[\"distances\"])), result_dict[\"distances\"], s = 2, c = colors)\n",
    "    #axs[1,0].title(\"Distances\")\n",
    "\n",
    "    #axs[1,1].scatter(range(len(result_dict[\"distances_previous\"])), result_dict[\"distances_previous\"], s = 2, c = colors)\n",
    "    #axs[1,1].title(\"Pairwise - Distances\")\n",
    "    axs[2,0].scatter(range(len(result_dict[\"fractions\"])), result_dict[\"fractions\"], s = 10)\n",
    "    axs[2,0].set_title(\"Fractions\")\n",
    "\n",
    "    #for i in range(len(result_dict[\"accuracies\"])):\n",
    "    #    print(result_dict[\"accuracies\"][i] == result_dict[\"fractions\"][i])\n",
    "    #axs[2,1].scatter(range(len(result_dict[\"accuracies\"])), result_dict[\"accuracies\"], c = colors)\n",
    "    axs[2,1].set_title(\"Accuracies\")\n",
    "\n",
    "    axs[3,0].scatter(range(len(result_dict[\"sums\"])), [np.median(s) for s in result_dict[\"sums\"]], s = 10)\n",
    "    axs[3,0].set_title(\"Median replays\")\n",
    "\n",
    "    axs[4,0].scatter(range(len(result_dict[\"negative_edges\"])), [len(e) for e in result_dict[\"negative_edges\"]], s = 10)\n",
    "    axs[4,0].set_title(\"Number negative edges\")\n",
    "\n",
    "    axs[4,1].scatter(range(len(result_dict[\"negative_edges\"])), [-len(e) for e in result_dict[\"negative_edges\"]], s = 10)\n",
    "    axs[4,1].set_title(\"Number negative edges inverted\")\n",
    "\n",
    "plot_results(result_dict)"
   ]
  },
  {
   "cell_type": "code",
   "execution_count": 119,
   "id": "7236d11f",
   "metadata": {},
   "outputs": [
    {
     "data": {
      "text/plain": [
       "{('Task event: 0', 'Task event: loggedIn'): 28,\n",
       " ('started', 'Task event: 0'): 24,\n",
       " ('Task event: loggedIn', 'started'): 24,\n",
       " ('registered', 'Logged in: Web page - Sign up'): 23,\n",
       " ('Logged in: Web page - Sign up', 'activated'): 23,\n",
       " ('vpcCreateUserOnInstance', 'readyToStart'): 22,\n",
       " ('vpcAssignInstance', 'vpcCreateUserOnInstance'): 21,\n",
       " ('readyToStart', 'Task event: loggedIn'): 19,\n",
       " ('registered', 'activated'): 17,\n",
       " ('activated', 'vpcAssignInstance'): 17,\n",
       " ('start', 'registered'): 17,\n",
       " ('activated', 'Logged in: Web page - Sign up'): 16,\n",
       " ('Logged in: Web page - Sign up', 'vpcAssignInstance'): 16,\n",
       " ('started', 'Task event: loggedIn'): 14,\n",
       " ('Task event: loggedIn', 'Task event: 0'): 12,\n",
       " ('Give feedback 0', 'Task event: 1'): 11,\n",
       " ('readyToStart', 'started'): 10,\n",
       " ('Results automatically shared', 'subjectAcceptanceReceived'): 8,\n",
       " ('waitingForSubjectAcceptance', 'Results automatically shared'): 7,\n",
       " ('vpcAssignInstance', 'readyToStart'): 7,\n",
       " ('vpcCreateUserOnInstance', 'vpcAssignInstance'): 7,\n",
       " ('Task event: 0', 'Give feedback 0'): 6,\n",
       " ('subjectAcceptanceReceived', 'waitingForActivityReport'): 5,\n",
       " ('Logged in: Web page - Sign up', 'vpcCreateUserOnInstance'): 4,\n",
       " ('waitingForActivityReport', 'Logged in: Web page - Approval'): 3,\n",
       " ('Task event: 0', 'Logged in: Web page - Task'): 3,\n",
       " ('Give feedback 1', 'Task event: 2'): 2,\n",
       " ('activated', 'vpcCreateUserOnInstance'): 2,\n",
       " ('waitingForActivityReport', 'finNeg'): 2,\n",
       " ('Task event: loggedIn', 'Logged in: Web page - Task'): 1,\n",
       " ('Task event: 1', 'Give feedback 1'): 1,\n",
       " ('waitingForSubjectAcceptance', 'subjectAcceptanceReceived'): 1,\n",
       " ('subjectAcceptanceReceived', 'Results automatically shared'): 1,\n",
       " ('waitingForResultApproval', 'waitingForSubjectAcceptance'): 1,\n",
       " ('Results automatically shared', 'waitingForActivityReport'): 1,\n",
       " ('Task event: 1', 'Logged in: Web page - Task'): 1,\n",
       " ('readyToStart', 'Logged in: Web page - Sign up'): 1,\n",
       " ('Logged in: Web page - Sign up', 'started'): 1,\n",
       " ('Task event: loggedIn', 'Give feedback 0'): 1}"
      ]
     },
     "execution_count": 119,
     "metadata": {},
     "output_type": "execute_result"
    }
   ],
   "source": [
    "negative_edges = result_dict[\"negative_edges\"]\n",
    "edge_set = {}\n",
    "for inner_set in negative_edges:\n",
    "    for e in inner_set:\n",
    "        if e not in edge_set:\n",
    "            edge_set[e] = 1\n",
    "        else:\n",
    "            edge_set[e] += 1\n",
    "dict(sorted(edge_set.items(), key=lambda item: item[1], reverse = True))"
   ]
  },
  {
   "cell_type": "code",
   "execution_count": 84,
   "id": "1c83032f",
   "metadata": {},
   "outputs": [
    {
     "name": "stderr",
     "output_type": "stream",
     "text": [
      "/tmp/ipykernel_3667/787545883.py:6: DeprecationWarning: Starting with ImageIO v3 the behavior of this function will switch to that of iio.v3.imread. To keep the current behavior (and make this warning disappear) use `import imageio.v2 as imageio` or call `imageio.v2.imread` directly.\n",
      "  images.append(imageio.imread(filename))\n"
     ]
    }
   ],
   "source": [
    "# generate git from images\n",
    "import imageio\n",
    "images = []\n",
    "\n",
    "for filename in result_dict[\"images\"]:\n",
    "    images.append(imageio.imread(filename))\n",
    "imageio.mimsave('./gif/merged.gif', images, fps=3)"
   ]
  },
  {
   "cell_type": "code",
   "execution_count": 177,
   "id": "3727bf66",
   "metadata": {},
   "outputs": [
    {
     "name": "stdout",
     "output_type": "stream",
     "text": [
      "compute distance\n",
      "Edge cost was computed\n",
      "Graph was unrolled\n",
      "plotted graph_loops.ps\n",
      "All written to unrolled_graph.xml\n",
      "1 / 104\n",
      "compute distance\n",
      "Edge cost was computed\n",
      "Graph was unrolled\n",
      "plotted graph_loops.ps\n",
      "All written to unrolled_graph.xml\n",
      "2 / 104\n",
      "compute distance\n",
      "Edge cost was computed\n",
      "Graph was unrolled\n",
      "plotted graph_loops.ps\n",
      "All written to unrolled_graph.xml\n",
      "3 / 104\n",
      "compute distance\n",
      "Edge cost was computed\n",
      "Graph was unrolled\n",
      "plotted graph_loops.ps\n",
      "All written to unrolled_graph.xml\n",
      "4 / 104\n",
      "compute distance\n",
      "Edge cost was computed\n",
      "Graph was unrolled\n",
      "plotted graph_loops.ps\n",
      "All written to unrolled_graph.xml\n",
      "5 / 104\n",
      "compute distance\n",
      "Edge cost was computed\n",
      "Graph was unrolled\n",
      "plotted graph_loops.ps\n",
      "All written to unrolled_graph.xml\n",
      "6 / 104\n",
      "compute distance\n",
      "Edge cost was computed\n",
      "Graph was unrolled\n",
      "plotted graph_loops.ps\n",
      "All written to unrolled_graph.xml\n",
      "7 / 104\n",
      "compute distance\n",
      "Edge cost was computed\n",
      "Graph was unrolled\n",
      "plotted graph_loops.ps\n",
      "All written to unrolled_graph.xml\n",
      "8 / 104\n",
      "compute distance\n",
      "Edge cost was computed\n",
      "Graph was unrolled\n",
      "plotted graph_loops.ps\n",
      "All written to unrolled_graph.xml\n",
      "9 / 104\n",
      "compute distance\n",
      "Edge cost was computed\n",
      "Graph was unrolled\n",
      "plotted graph_loops.ps\n",
      "All written to unrolled_graph.xml\n",
      "10 / 104\n",
      "compute distance\n",
      "Edge cost was computed\n",
      "Graph was unrolled\n",
      "plotted graph_loops.ps\n",
      "All written to unrolled_graph.xml\n",
      "11 / 104\n",
      "compute distance\n",
      "Edge cost was computed\n",
      "Graph was unrolled\n",
      "plotted graph_loops.ps\n",
      "All written to unrolled_graph.xml\n",
      "12 / 104\n",
      "compute distance\n",
      "Edge cost was computed\n",
      "Graph was unrolled\n",
      "plotted graph_loops.ps\n",
      "All written to unrolled_graph.xml\n",
      "13 / 104\n",
      "compute distance\n",
      "Edge cost was computed\n",
      "Graph was unrolled\n",
      "plotted graph_loops.ps\n",
      "All written to unrolled_graph.xml\n",
      "14 / 104\n",
      "compute distance\n",
      "Edge cost was computed\n",
      "Graph was unrolled\n",
      "plotted graph_loops.ps\n",
      "All written to unrolled_graph.xml\n",
      "15 / 104\n",
      "compute distance\n",
      "Edge cost was computed\n",
      "Graph was unrolled\n",
      "plotted graph_loops.ps\n",
      "All written to unrolled_graph.xml\n",
      "16 / 104\n",
      "compute distance\n",
      "Edge cost was computed\n",
      "Graph was unrolled\n",
      "plotted graph_loops.ps\n",
      "All written to unrolled_graph.xml\n",
      "17 / 104\n",
      "compute distance\n",
      "Edge cost was computed\n",
      "Graph was unrolled\n",
      "plotted graph_loops.ps\n",
      "All written to unrolled_graph.xml\n",
      "18 / 104\n",
      "compute distance\n",
      "Edge cost was computed\n",
      "Graph was unrolled\n",
      "plotted graph_loops.ps\n",
      "All written to unrolled_graph.xml\n",
      "19 / 104\n",
      "compute distance\n",
      "Edge cost was computed\n",
      "Graph was unrolled\n",
      "plotted graph_loops.ps\n",
      "All written to unrolled_graph.xml\n",
      "20 / 104\n",
      "compute distance\n",
      "Edge cost was computed\n",
      "Graph was unrolled\n",
      "plotted graph_loops.ps\n",
      "All written to unrolled_graph.xml\n",
      "21 / 104\n",
      "compute distance\n",
      "Edge cost was computed\n",
      "Graph was unrolled\n",
      "plotted graph_loops.ps\n",
      "All written to unrolled_graph.xml\n",
      "22 / 104\n",
      "compute distance\n",
      "Edge cost was computed\n",
      "Graph was unrolled\n",
      "plotted graph_loops.ps\n",
      "All written to unrolled_graph.xml\n",
      "23 / 104\n",
      "compute distance\n",
      "Edge cost was computed\n",
      "Graph was unrolled\n",
      "plotted graph_loops.ps\n",
      "All written to unrolled_graph.xml\n",
      "24 / 104\n",
      "compute distance\n",
      "Edge cost was computed\n",
      "Graph was unrolled\n",
      "plotted graph_loops.ps\n",
      "All written to unrolled_graph.xml\n",
      "25 / 104\n",
      "compute distance\n",
      "Edge cost was computed\n",
      "Graph was unrolled\n",
      "plotted graph_loops.ps\n",
      "All written to unrolled_graph.xml\n",
      "26 / 104\n",
      "compute distance\n",
      "Edge cost was computed\n",
      "Graph was unrolled\n",
      "plotted graph_loops.ps\n",
      "All written to unrolled_graph.xml\n",
      "27 / 104\n",
      "compute distance\n",
      "Edge cost was computed\n",
      "Graph was unrolled\n",
      "plotted graph_loops.ps\n",
      "All written to unrolled_graph.xml\n",
      "28 / 104\n",
      "compute distance\n",
      "Edge cost was computed\n",
      "Graph was unrolled\n",
      "plotted graph_loops.ps\n",
      "All written to unrolled_graph.xml\n",
      "29 / 104\n",
      "compute distance\n",
      "Edge cost was computed\n",
      "Graph was unrolled\n",
      "plotted graph_loops.ps\n",
      "All written to unrolled_graph.xml\n",
      "30 / 104\n",
      "compute distance\n",
      "Edge cost was computed\n",
      "Graph was unrolled\n",
      "plotted graph_loops.ps\n",
      "All written to unrolled_graph.xml\n",
      "31 / 104\n",
      "compute distance\n",
      "Edge cost was computed\n",
      "Graph was unrolled\n",
      "plotted graph_loops.ps\n",
      "All written to unrolled_graph.xml\n",
      "32 / 104\n",
      "compute distance\n",
      "Edge cost was computed\n",
      "Graph was unrolled\n",
      "plotted graph_loops.ps\n",
      "All written to unrolled_graph.xml\n",
      "33 / 104\n",
      "compute distance\n",
      "Edge cost was computed\n",
      "Graph was unrolled\n",
      "plotted graph_loops.ps\n",
      "All written to unrolled_graph.xml\n",
      "34 / 104\n",
      "compute distance\n",
      "Edge cost was computed\n",
      "Graph was unrolled\n",
      "plotted graph_loops.ps\n",
      "All written to unrolled_graph.xml\n",
      "35 / 104\n",
      "compute distance\n",
      "Edge cost was computed\n",
      "Graph was unrolled\n",
      "plotted graph_loops.ps\n",
      "All written to unrolled_graph.xml\n",
      "36 / 104\n",
      "compute distance\n",
      "Edge cost was computed\n",
      "Graph was unrolled\n",
      "plotted graph_loops.ps\n",
      "All written to unrolled_graph.xml\n",
      "37 / 104\n",
      "compute distance\n",
      "Edge cost was computed\n",
      "Graph was unrolled\n",
      "plotted graph_loops.ps\n",
      "All written to unrolled_graph.xml\n",
      "38 / 104\n",
      "compute distance\n",
      "Edge cost was computed\n",
      "Graph was unrolled\n",
      "plotted graph_loops.ps\n",
      "All written to unrolled_graph.xml\n",
      "39 / 104\n",
      "compute distance\n",
      "Edge cost was computed\n",
      "Graph was unrolled\n",
      "plotted graph_loops.ps\n",
      "All written to unrolled_graph.xml\n",
      "40 / 104\n",
      "compute distance\n",
      "Edge cost was computed\n",
      "Graph was unrolled\n",
      "plotted graph_loops.ps\n",
      "All written to unrolled_graph.xml\n",
      "41 / 104\n",
      "compute distance\n",
      "Edge cost was computed\n",
      "Graph was unrolled\n",
      "plotted graph_loops.ps\n",
      "All written to unrolled_graph.xml\n",
      "42 / 104\n",
      "compute distance\n",
      "Edge cost was computed\n",
      "Graph was unrolled\n",
      "plotted graph_loops.ps\n",
      "All written to unrolled_graph.xml\n",
      "43 / 104\n",
      "compute distance\n",
      "Edge cost was computed\n",
      "Graph was unrolled\n",
      "plotted graph_loops.ps\n",
      "All written to unrolled_graph.xml\n",
      "44 / 104\n",
      "compute distance\n",
      "Edge cost was computed\n",
      "Graph was unrolled\n",
      "plotted graph_loops.ps\n",
      "All written to unrolled_graph.xml\n",
      "45 / 104\n",
      "compute distance\n",
      "compute distance\n",
      "compute distance\n",
      "compute distance\n",
      "compute distance\n",
      "Edge cost was computed\n",
      "Graph was unrolled\n",
      "plotted graph_loops.ps\n",
      "All written to unrolled_graph.xml\n",
      "50 / 104\n",
      "compute distance\n",
      "Edge cost was computed\n",
      "Graph was unrolled\n",
      "plotted graph_loops.ps\n",
      "All written to unrolled_graph.xml\n",
      "51 / 104\n",
      "compute distance\n",
      "Edge cost was computed\n",
      "Graph was unrolled\n",
      "plotted graph_loops.ps\n",
      "All written to unrolled_graph.xml\n",
      "52 / 104\n",
      "compute distance\n",
      "Edge cost was computed\n",
      "Graph was unrolled\n",
      "plotted graph_loops.ps\n",
      "All written to unrolled_graph.xml\n",
      "53 / 104\n",
      "compute distance\n",
      "Edge cost was computed\n",
      "Graph was unrolled\n",
      "plotted graph_loops.ps\n",
      "All written to unrolled_graph.xml\n",
      "54 / 104\n",
      "compute distance\n",
      "Edge cost was computed\n",
      "Graph was unrolled\n",
      "plotted graph_loops.ps\n",
      "All written to unrolled_graph.xml\n",
      "55 / 104\n",
      "compute distance\n",
      "Edge cost was computed\n",
      "Graph was unrolled\n",
      "plotted graph_loops.ps\n",
      "All written to unrolled_graph.xml\n",
      "56 / 104\n",
      "compute distance\n",
      "Edge cost was computed\n",
      "Graph was unrolled\n",
      "plotted graph_loops.ps\n",
      "All written to unrolled_graph.xml\n",
      "57 / 104\n",
      "compute distance\n",
      "Edge cost was computed\n",
      "Graph was unrolled\n",
      "plotted graph_loops.ps\n",
      "All written to unrolled_graph.xml\n",
      "58 / 104\n",
      "compute distance\n",
      "Edge cost was computed\n",
      "Graph was unrolled\n",
      "plotted graph_loops.ps\n",
      "All written to unrolled_graph.xml\n",
      "59 / 104\n",
      "compute distance\n",
      "compute distance\n",
      "Edge cost was computed\n",
      "Graph was unrolled\n",
      "plotted graph_loops.ps\n",
      "All written to unrolled_graph.xml\n",
      "61 / 104\n",
      "compute distance\n",
      "Edge cost was computed\n",
      "Graph was unrolled\n",
      "plotted graph_loops.ps\n",
      "All written to unrolled_graph.xml\n",
      "62 / 104\n",
      "compute distance\n",
      "Edge cost was computed\n",
      "Graph was unrolled\n",
      "plotted graph_loops.ps\n",
      "All written to unrolled_graph.xml\n",
      "63 / 104\n",
      "compute distance\n",
      "Edge cost was computed\n",
      "Graph was unrolled\n",
      "plotted graph_loops.ps\n",
      "All written to unrolled_graph.xml\n",
      "64 / 104\n",
      "compute distance\n",
      "Edge cost was computed\n",
      "Graph was unrolled\n",
      "plotted graph_loops.ps\n",
      "All written to unrolled_graph.xml\n",
      "65 / 104\n",
      "compute distance\n",
      "Edge cost was computed\n",
      "Graph was unrolled\n",
      "plotted graph_loops.ps\n",
      "All written to unrolled_graph.xml\n",
      "66 / 104\n",
      "compute distance\n",
      "Edge cost was computed\n",
      "Graph was unrolled\n",
      "plotted graph_loops.ps\n",
      "All written to unrolled_graph.xml\n",
      "67 / 104\n",
      "compute distance\n",
      "Edge cost was computed\n",
      "Graph was unrolled\n",
      "plotted graph_loops.ps\n",
      "All written to unrolled_graph.xml\n",
      "68 / 104\n",
      "compute distance\n",
      "Edge cost was computed\n",
      "Graph was unrolled\n",
      "plotted graph_loops.ps\n",
      "All written to unrolled_graph.xml\n",
      "69 / 104\n",
      "compute distance\n",
      "Edge cost was computed\n",
      "Graph was unrolled\n",
      "plotted graph_loops.ps\n",
      "All written to unrolled_graph.xml\n",
      "70 / 104\n",
      "compute distance\n",
      "Edge cost was computed\n",
      "Graph was unrolled\n",
      "plotted graph_loops.ps\n",
      "All written to unrolled_graph.xml\n",
      "71 / 104\n",
      "compute distance\n",
      "Edge cost was computed\n",
      "Graph was unrolled\n",
      "plotted graph_loops.ps\n",
      "All written to unrolled_graph.xml\n",
      "72 / 104\n",
      "compute distance\n",
      "Edge cost was computed\n",
      "Graph was unrolled\n",
      "plotted graph_loops.ps\n",
      "All written to unrolled_graph.xml\n",
      "73 / 104\n",
      "compute distance\n",
      "Edge cost was computed\n",
      "Graph was unrolled\n",
      "plotted graph_loops.ps\n",
      "All written to unrolled_graph.xml\n",
      "74 / 104\n",
      "compute distance\n",
      "Edge cost was computed\n",
      "Graph was unrolled\n",
      "plotted graph_loops.ps\n",
      "All written to unrolled_graph.xml\n",
      "75 / 104\n",
      "compute distance\n",
      "Edge cost was computed\n",
      "Graph was unrolled\n",
      "plotted graph_loops.ps\n",
      "All written to unrolled_graph.xml\n",
      "76 / 104\n",
      "compute distance\n",
      "Edge cost was computed\n",
      "Graph was unrolled\n",
      "plotted graph_loops.ps\n",
      "All written to unrolled_graph.xml\n",
      "77 / 104\n",
      "compute distance\n",
      "Edge cost was computed\n",
      "Graph was unrolled\n",
      "plotted graph_loops.ps\n",
      "All written to unrolled_graph.xml\n",
      "78 / 104\n",
      "compute distance\n",
      "Edge cost was computed\n",
      "Graph was unrolled\n",
      "plotted graph_loops.ps\n",
      "All written to unrolled_graph.xml\n",
      "79 / 104\n",
      "compute distance\n",
      "Edge cost was computed\n",
      "Graph was unrolled\n",
      "plotted graph_loops.ps\n",
      "All written to unrolled_graph.xml\n",
      "80 / 104\n",
      "compute distance\n",
      "Edge cost was computed\n",
      "Graph was unrolled\n",
      "plotted graph_loops.ps\n",
      "All written to unrolled_graph.xml\n",
      "81 / 104\n",
      "compute distance\n",
      "Edge cost was computed\n",
      "Graph was unrolled\n",
      "plotted graph_loops.ps\n",
      "All written to unrolled_graph.xml\n",
      "82 / 104\n",
      "compute distance\n",
      "compute distance\n",
      "compute distance\n",
      "Edge cost was computed\n",
      "Graph was unrolled\n",
      "plotted graph_loops.ps\n",
      "All written to unrolled_graph.xml\n",
      "85 / 104\n",
      "compute distance\n",
      "Edge cost was computed\n",
      "Graph was unrolled\n",
      "plotted graph_loops.ps\n",
      "All written to unrolled_graph.xml\n",
      "86 / 104\n",
      "compute distance\n",
      "Edge cost was computed\n",
      "Graph was unrolled\n",
      "plotted graph_loops.ps\n",
      "All written to unrolled_graph.xml\n",
      "87 / 104\n",
      "compute distance\n",
      "Edge cost was computed\n",
      "Graph was unrolled\n",
      "plotted graph_loops.ps\n",
      "All written to unrolled_graph.xml\n",
      "88 / 104\n",
      "compute distance\n",
      "Edge cost was computed\n",
      "Graph was unrolled\n",
      "plotted graph_loops.ps\n",
      "All written to unrolled_graph.xml\n",
      "89 / 104\n",
      "compute distance\n",
      "Edge cost was computed\n",
      "Graph was unrolled\n",
      "plotted graph_loops.ps\n",
      "All written to unrolled_graph.xml\n",
      "90 / 104\n",
      "compute distance\n",
      "Edge cost was computed\n",
      "Graph was unrolled\n",
      "plotted graph_loops.ps\n",
      "All written to unrolled_graph.xml\n",
      "91 / 104\n",
      "compute distance\n",
      "Edge cost was computed\n",
      "Graph was unrolled\n",
      "plotted graph_loops.ps\n",
      "All written to unrolled_graph.xml\n",
      "92 / 104\n",
      "compute distance\n",
      "Edge cost was computed\n",
      "Graph was unrolled\n",
      "plotted graph_loops.ps\n",
      "All written to unrolled_graph.xml\n",
      "93 / 104\n",
      "compute distance\n",
      "Edge cost was computed\n",
      "Graph was unrolled\n",
      "plotted graph_loops.ps\n",
      "All written to unrolled_graph.xml\n",
      "94 / 104\n",
      "compute distance\n",
      "Edge cost was computed\n",
      "Graph was unrolled\n",
      "plotted graph_loops.ps\n",
      "All written to unrolled_graph.xml\n",
      "95 / 104\n",
      "compute distance\n",
      "Edge cost was computed\n",
      "Graph was unrolled\n",
      "plotted graph_loops.ps\n",
      "All written to unrolled_graph.xml\n",
      "96 / 104\n",
      "compute distance\n",
      "Edge cost was computed\n",
      "Graph was unrolled\n",
      "plotted graph_loops.ps\n",
      "All written to unrolled_graph.xml\n",
      "97 / 104\n",
      "compute distance\n",
      "Edge cost was computed\n",
      "Graph was unrolled\n",
      "plotted graph_loops.ps\n",
      "All written to unrolled_graph.xml\n",
      "98 / 104\n",
      "compute distance\n",
      "Edge cost was computed\n",
      "Graph was unrolled\n",
      "plotted graph_loops.ps\n",
      "All written to unrolled_graph.xml\n",
      "99 / 104\n",
      "compute distance\n",
      "Edge cost was computed\n",
      "Graph was unrolled\n",
      "plotted graph_loops.ps\n",
      "All written to unrolled_graph.xml\n",
      "100 / 104\n",
      "compute distance\n",
      "Edge cost was computed\n",
      "Graph was unrolled\n",
      "plotted graph_loops.ps\n",
      "All written to unrolled_graph.xml\n",
      "101 / 104\n",
      "compute distance\n",
      "Edge cost was computed\n",
      "Graph was unrolled\n",
      "plotted graph_loops.ps\n",
      "All written to unrolled_graph.xml\n",
      "102 / 104\n",
      "not connected\n",
      "plotted graph_error.ps\n",
      "plotted graph_error.ps\n",
      "compute distance\n",
      "not connected\n",
      "plotted graph_error.ps\n",
      "plotted graph_error.ps\n",
      "not connected\n",
      "plotted graph_error.ps\n",
      "plotted graph_error.ps\n",
      "compute distance\n"
     ]
    },
    {
     "data": {
      "image/png": "[encoded data removed]",
      "text/plain": [
       "<Figure size 432x288 with 1 Axes>"
      ]
     },
     "metadata": {
      "needs_background": "light"
     },
     "output_type": "display_data"
    },
    {
     "data": {
      "image/png": "[encoded data removed]",
      "text/plain": [
       "<Figure size 432x288 with 1 Axes>"
      ]
     },
     "metadata": {
      "needs_background": "light"
     },
     "output_type": "display_data"
    },
    {
     "name": "stdout",
     "output_type": "stream",
     "text": [
      "6\n",
      "successfully computed 95\n"
     ]
    },
    {
     "data": {
      "image/png": "[encoded data removed]",
      "text/plain": [
       "<Figure size 432x288 with 1 Axes>"
      ]
     },
     "metadata": {
      "needs_background": "light"
     },
     "output_type": "display_data"
    },
    {
     "data": {
      "image/png": "[encoded data removed]",
      "text/plain": [
       "<Figure size 432x288 with 1 Axes>"
      ]
     },
     "metadata": {
      "needs_background": "light"
     },
     "output_type": "display_data"
    }
   ],
   "source": [
    "loops = []\n",
    "omitted_counter = 0\n",
    "successfully_computed = 0\n",
    "colors = []\n",
    "time_results = []\n",
    "distances = []\n",
    "distances_previous = [0]\n",
    "sliced_logs = sliding_window_logs(log, start_times, WINDOW_SIZE)\n",
    "sliced_logs = sliced_logs[0::5]\n",
    "for l in sliced_logs:\n",
    "    edge_threshold = 3\n",
    "\n",
    "    if len(distances) > 0:\n",
    "        distances_previous.append(nx.graph_edit_distance(build_dfg(l, edge_threshold), help_g, timeout = 10))\n",
    "\n",
    "    help_g = build_dfg(l, edge_threshold)\n",
    "\n",
    "    while not nx.is_weakly_connected(help_g) or not \"finPos\" in list(nx.descendants(help_g, \"start\")):\n",
    "        print(\"not connected\")\n",
    "        draw_dfg(help_g, \"graph_error.ps\")\n",
    "        edge_threshold -= 1\n",
    "        if edge_threshold == -1:\n",
    "            assert(False)\n",
    "        help_g = build_dfg(l, edge_threshold)\n",
    "        draw_dfg(help_g, \"graph_error.ps\")\n",
    "\n",
    "    loop_number = len(list(nx.simple_cycles(help_g)))\n",
    "    while(loop_number > 6):\n",
    "        edge_threshold += 1\n",
    "        help_g = build_dfg(l, edge_threshold)\n",
    "        loop_number = len(list(nx.simple_cycles(help_g)))\n",
    "\n",
    "    print(\"compute distance\")\n",
    "    distances.append(nx.graph_edit_distance(g_old, help_g, timeout = 10))\n",
    "    #assert(nx.is_weakly_connected(help_g))\n",
    "    loops.append(loop_number)\n",
    "\n",
    "    #while len(list(nx.simple_cycles(help_g)))>8:\n",
    "    #    edge_threshold += 1\n",
    "    #    help_g = build_dfg(l, edge_threshold)\n",
    "    #    print(\"in loop\")\n",
    "    if len(list(nx.simple_cycles(help_g))) > 6 or not nx.is_weakly_connected(help_g) or not \"finPos\" in list(nx.descendants(help_g, \"start\")):\n",
    "        omitted_counter += 1\n",
    "        colors.append(\"r\")\n",
    "        continue\n",
    "    extend_graph_with_actors(help_g,actors)\n",
    "    help_edge_cost = compute_edge_cost(help_g, l)\n",
    "\n",
    "    help_g = annotate_graph(help_g, help_edge_cost)\n",
    "    help_g_outgoing = color_graph(help_g)\n",
    "    \n",
    "    if \"start\" not in help_g.nodes:\n",
    "        print(len(l))\n",
    "        print(l)\n",
    "        draw_dfg(help_g, \"graph_error.ps\")\n",
    "    \n",
    "    \n",
    "\n",
    "    help_g_unroll = unroll(help_g, \"start\", [\"finPos\", \"finNeg\"], 1)\n",
    "    draw_dfg(help_g, \"graph_loops.ps\")\n",
    "    #draw_dfg(help_g_unroll, \"graph_loops_unrolled.ps\")\n",
    "    to_uppaal(help_g_unroll)\n",
    "\n",
    "    out = subprocess.Popen([VERIFYTA_PATH, \"/home/paul/Documents/User-Journey-Games/unrolled_graph.xml\", \"/home/paul/Documents/User-Journey-Games/unrolled_graph.q\"], stdout=subprocess.PIPE, stderr = subprocess.PIPE)\n",
    "    out.wait()\n",
    "    results, err = out.communicate()\n",
    "    results = results.decode(\"utf-8\") \n",
    "    err = err.decode(\"utf-8\") \n",
    "    #if \"Formula is NOT satisfied\" in results:\n",
    "    if err != \"\":\n",
    "        results = [-1,-1,-1,-1,-1,-1]\n",
    "    else:\n",
    "        results = results.split(\"\\n\")\n",
    "        results = [results[i+1] for i in range(len(results)-1) if \"Formula\" in results[i] and \"E\" in results[i+1]]\n",
    "        results = [r.replace(\"≈\", \"\") for r in results]\n",
    "        results = [float(r.split(\"±\")[0].split(\"runs)\")[1].split(\"=\")[1].strip()) for r in results]\n",
    "    assert(len(results) == 6)\n",
    "\n",
    "    time_results.append(results)\n",
    "    successfully_computed += 1\n",
    "    colors.append(\"b\" if list(set(results)) == [-1] else \"g\")\n",
    "    print(len(loops), \"/\", len(sliced_logs))\n",
    "\n",
    "plt.hist(loops, 20)\n",
    "plt.show()\n",
    "plt.scatter(range(len(loops)), loops, s = 2, c = colors)\n",
    "plt.title(\"Loops\")\n",
    "plt.show()\n",
    "print(max(loops))\n",
    "print(\"successfully computed\", successfully_computed)\n",
    "plt.scatter(range(len(distances)), distances, s = 2, c = colors)\n",
    "plt.title(\"Distances\")\n",
    "plt.show()\n",
    "plt.scatter(range(len(distances_previous)), distances_previous, s = 2, c = colors)\n",
    "plt.title(\"Pairwise - Distances\")\n",
    "plt.show()"
   ]
  },
  {
   "cell_type": "code",
   "execution_count": 180,
   "id": "dc149768",
   "metadata": {},
   "outputs": [
    {
     "data": {
      "image/png": "[encoded data removed]",
      "text/plain": [
       "<Figure size 432x288 with 1 Axes>"
      ]
     },
     "metadata": {
      "needs_background": "light"
     },
     "output_type": "display_data"
    },
    {
     "data": {
      "image/png": "[encoded data removed]",
      "text/plain": [
       "<Figure size 432x288 with 1 Axes>"
      ]
     },
     "metadata": {
      "needs_background": "light"
     },
     "output_type": "display_data"
    },
    {
     "data": {
      "image/png": "[encoded data removed]",
      "text/plain": [
       "<Figure size 432x288 with 1 Axes>"
      ]
     },
     "metadata": {
      "needs_background": "light"
     },
     "output_type": "display_data"
    },
    {
     "data": {
      "image/png": "[encoded data removed]",
      "text/plain": [
       "<Figure size 432x288 with 1 Axes>"
      ]
     },
     "metadata": {
      "needs_background": "light"
     },
     "output_type": "display_data"
    },
    {
     "data": {
      "image/png": "[encoded data removed]",
      "text/plain": [
       "<Figure size 432x288 with 1 Axes>"
      ]
     },
     "metadata": {
      "needs_background": "light"
     },
     "output_type": "display_data"
    },
    {
     "data": {
      "image/png": "[encoded data removed]",
      "text/plain": [
       "<Figure size 432x288 with 1 Axes>"
      ]
     },
     "metadata": {
      "needs_background": "light"
     },
     "output_type": "display_data"
    }
   ],
   "source": [
    "lables = [\"max_steps\", \"min_gas\", \"min_final_gas\"]\n",
    "for i in range(6):\n",
    "    plt.scatter(range(len(time_results)), [r[i] for r in time_results], s = 2)\n",
    "    plt.title(lables[i%3])\n",
    "    plt.show()"
   ]
  },
  {
   "cell_type": "code",
   "execution_count": 120,
   "id": "8e7288c9",
   "metadata": {},
   "outputs": [
    {
     "name": "stdout",
     "output_type": "stream",
     "text": [
      "6\n"
     ]
    },
    {
     "data": {
      "text/plain": [
       "36.0"
      ]
     },
     "execution_count": 120,
     "metadata": {},
     "output_type": "execute_result"
    }
   ],
   "source": [
    "loop_number = len(list(nx.simple_cycles(g_old)))\n",
    "print(loop_number)\n",
    "nx.graph_edit_distance(g_old, help_g, timeout = 10)"
   ]
  },
  {
   "cell_type": "code",
   "execution_count": 140,
   "id": "d627392b",
   "metadata": {},
   "outputs": [],
   "source": [
    "#transition system needs different write-to-xml methods\n",
    "\n",
    "# construction of uppaal model (write model into upaal file)\n",
    "def to_uppaal(g, name, layout = \"sfdp\", debug = False):\n",
    "    f = open(name, \"w+\")\n",
    "    \n",
    "    pos = nx.drawing.nx_agraph.graphviz_layout(g, prog=layout, args='-Grankdir=LR')\n",
    "\n",
    "    f.write('<?xml version=\"1.0\" encoding=\"utf-8\"?>')\n",
    "    f.write(\"<!DOCTYPE nta PUBLIC '-//Uppaal Team//DTD Flat System 1.1//EN' 'http://www.it.uu.se/research/group/darts/uppaal/flat-1_1.dtd'>\")\n",
    "    f.write('<nta>')\n",
    "    f.write('<declaration>')\n",
    "    f.write('int e = 0;')\n",
    "    f.write('\\n'+'clock x;')\n",
    "    f.write('\\n'+'hybrid clock t;')\n",
    "    f.write('\\n'+'int steps;')\n",
    "    f.write('\\n'+'bool reached_positive = false;')\n",
    "    f.write('\\n'+'bool reached_negative = false;')\n",
    "    f.write('\\n'+'int final_gas = -1;')\n",
    "    f.write('</declaration>')\n",
    "    f.write('<template>')\n",
    "    f.write('<name x=\"5\" y=\"5\">Template</name>')\n",
    "    \n",
    "    # print locations\n",
    "    ids = {}\n",
    "    for s,i in zip(pos, range(len(pos))):\n",
    "        ids[s] = i\n",
    "        print_location(f, \"id\"+str(i),pos[s][0],pos[s][1],s)\n",
    "        f.write('\\n')\n",
    "                    \n",
    "    f.write('<init ref=\"id'+str(ids['start'])+'\"/>')\n",
    "    \n",
    "    for e in g.edges:\n",
    "        assert(\"label\" in g[e[0]][e[1]] and \"controllable\" in g[e[0]][e[1]])\n",
    "        print_edge(f, ids[e[0]], ids[e[1]], pos[e[0]], pos[e[1]], g[e[0]][e[1]]['label'], g[e[0]][e[1]]['controllable'], e, g)\n",
    "\n",
    "    f.write('</template>')\n",
    "    f.write('<system>')\n",
    "    f.write('Journey = Template();')\n",
    "    f.write('system Journey;')\n",
    "    f.write('</system>')\n",
    "    f.write('</nta>')\n",
    "    f.close()\n",
    "    if debug:\n",
    "        print(\"all written to\", f.name)\n",
    "\n",
    "def print_location(f, location_id, x, y, name):\n",
    "    name = str(name)\n",
    "    name = name.replace('\"', '-')\n",
    "    name = name.replace('{', '')\n",
    "    name = name.replace('}', '')\n",
    "    name = name.replace(\"'\", '-')\n",
    "    name = name.replace(\"_\", '')\n",
    "    name = name.replace(\"(\", '')\n",
    "    name = name.replace(\")\", '')\n",
    "    f.write('<location id=\"'+location_id+'\" x=\"'+str(int(x))+'\" y=\"'+str(int(y))+'\">')\n",
    "    f.write('<name x=\"'+str(int(x))+'\" y=\"'+str(int(y)+20)+'\">'+str(name).replace(\":\", \"\").replace(\" \",\"\").replace(\".\", \"\").replace(\",\", \"\").replace(\"-\",\"\")+'</name>')\n",
    "    f.write('<label kind=\"invariant\" x=\"'+str(int(x))+'\" y=\"'+str(int(y)-30)+'\">')\n",
    "    if \"positive\" not in name and \"negative\" not in name and \"outOfGas\" not in name:\n",
    "        f.write('x &lt;= ' + str(2))\n",
    "    else:\n",
    "        f.write(\"t'==0\")\n",
    "    f.write('</label>')\n",
    "    f.write('</location>')\n",
    "\n",
    "def print_edge(f, s, t, pos_s, pos_t, w, controllable, e, g, guard = False):\n",
    "    x = (pos_s[0]+pos_t[0])/2\n",
    "    y = (pos_s[1]+pos_t[1])/2\n",
    "    if controllable:\n",
    "        f.write('<transition action = \"\">')\n",
    "    else:\n",
    "        f.write('<transition controllable=\"false\" action = \"\">')\n",
    "    f.write('<source ref=\"id'+str(s)+'\"/>')\n",
    "    f.write('<target ref=\"id'+str(t)+'\"/>')\n",
    "        \n",
    "    f.write('<label kind=\"assignment\" x=\"'+str(int(x))+'\" y=\"'+str(int(y))+'\">')\n",
    "    f.write(' steps += 1')\n",
    "    f.write(',\\n'+ 'x = 0')\n",
    "    if \"finPos\" in str(e[1]):\n",
    "        f.write(',\\n'+ 'reached_positive = true')\n",
    "        f.write(',\\n'+ 'final_gas = e +'+str(int(round(w))))\n",
    "    elif \"finNeg\" in str(e[1]):\n",
    "        f.write(',\\n'+ 'reached_negative = true')\n",
    "        f.write(',\\n'+ 'final_gas = e + '+str(int(round(w))))\n",
    "        \n",
    "    f.write(',\\n'+'e = e + '+str(int(round(w))))\n",
    "    f.write('</label>')\n",
    "    \n",
    "    f.write('</transition>')"
   ]
  },
  {
   "cell_type": "code",
   "execution_count": 141,
   "id": "a5187ef7",
   "metadata": {},
   "outputs": [],
   "source": [
    "# Concats the trace to a multiset-history\n",
    "def ms(trace):\n",
    "    multiset = {}\n",
    "    for pos in trace:\n",
    "        if pos not in multiset:\n",
    "            multiset[pos] = 1\n",
    "        else:\n",
    "            multiset[pos] += 1\n",
    "    return json.dumps(multiset, sort_keys=True).encode().decode(\"utf-8\") # use json encodings for multisets\n",
    "\n",
    "# Computes the sequence-history of the given trace\n",
    "def sequence(trace): \n",
    "    hist = str(trace[0])\n",
    "    for pos in trace[1:]:\n",
    "        hist += \" - \" + str(pos) # construct history\n",
    "    return hist\n",
    "\n",
    "# Function to compute a transition system, given a pre-processed log\n",
    "def transition_system(log, history, abstraction):\n",
    "    edges = []\n",
    "    edge_counter = {}\n",
    "    controll = {}\n",
    "    action = {}\n",
    "    edge_mapping = {}\n",
    "    for trace_index in range(len(log)):\n",
    "        trace = log[trace_index]\n",
    "        s = \"start\"\n",
    "        assert(trace[0]==\"start\")\n",
    "        for pos_index in range(1,len(trace)):\n",
    "            pos = trace[pos_index]\n",
    "            activity = pos\n",
    "            #t = ms(trace[max(0,pos_index-history+1):pos_index+1])\n",
    "            t = abstraction(trace[max(0,pos_index-history+1):pos_index+1])\n",
    "            e = (s,t)\n",
    "            action[e] = activity\n",
    "            if e not in edges:\n",
    "                edges.append(e)\n",
    "                edge_counter[e] = 1\n",
    "                edge_mapping[e] = [trace_index]\n",
    "            else:\n",
    "                edge_counter[e] = edge_counter[e]+1\n",
    "                edge_mapping[e].append(trace_index)\n",
    "            s = t\n",
    "    g = nx.DiGraph()\n",
    "    for e in edges:\n",
    "        g.add_edge(e[0], e[1])\n",
    "    to_remove = [] # to remove selve-loops\n",
    "    for e in g.edges:\n",
    "        if e[0] == e[1]:\n",
    "            to_remove.append(e)\n",
    "        # set properties\n",
    "        g[e[0]][e[1]]['action'] = action[e]\n",
    "\n",
    "    for e in to_remove:\n",
    "        if e in g.edges():\n",
    "            g.remove_edge(e[0],e[1])\n",
    "    \n",
    "    return g, edge_mapping\n",
    "\n",
    "def extend_graph_with_actors(g,actors):\n",
    "    for e in g.edges:\n",
    "        controllable_set = False\n",
    "        for key in actors:\n",
    "            if key in g.edges[e]['action']:\n",
    "                controllable_set = True\n",
    "                g.edges[e]['controllable'] = actors[key] == 'company'\n",
    "        if not controllable_set:\n",
    "            g.edges[e]['controllable'] = True"
   ]
  },
  {
   "cell_type": "code",
   "execution_count": 142,
   "id": "c13f880e",
   "metadata": {},
   "outputs": [],
   "source": [
    "g_old_history, h = transition_system(log_old, 3, sequence)"
   ]
  },
  {
   "cell_type": "code",
   "execution_count": 144,
   "id": "d6ed4eae",
   "metadata": {},
   "outputs": [
    {
     "name": "stdout",
     "output_type": "stream",
     "text": [
      "compute distance\n",
      "loop number 33\n",
      "compute distance\n",
      "loop number 6\n",
      "compute distance\n",
      "loop number 3\n",
      "Edge cost was computed\n",
      "plotted graph_loops.ps\n"
     ]
    },
    {
     "name": "stderr",
     "output_type": "stream",
     "text": [
      "/home/paul/.local/lib/python3.8/site-packages/numpy/core/fromnumeric.py:3440: RuntimeWarning: Mean of empty slice.\n",
      "  return _methods._mean(a, axis=axis, dtype=dtype,\n",
      "/home/paul/.local/lib/python3.8/site-packages/numpy/core/_methods.py:189: RuntimeWarning: invalid value encountered in double_scalars\n",
      "  ret = ret.dtype.type(ret / rcount)\n"
     ]
    },
    {
     "name": "stdout",
     "output_type": "stream",
     "text": [
      "Graph was unrolled\n",
      "[]\n"
     ]
    },
    {
     "ename": "AssertionError",
     "evalue": "",
     "output_type": "error",
     "traceback": [
      "\u001b[0;31m---------------------------------------------------------------------------\u001b[0m",
      "\u001b[0;31mAssertionError\u001b[0m                            Traceback (most recent call last)",
      "\u001b[0;32m/tmp/ipykernel_3667/4012219586.py\u001b[0m in \u001b[0;36m<module>\u001b[0;34m\u001b[0m\n\u001b[1;32m     63\u001b[0m         \u001b[0mresults\u001b[0m \u001b[0;34m=\u001b[0m \u001b[0;34m[\u001b[0m\u001b[0mfloat\u001b[0m\u001b[0;34m(\u001b[0m\u001b[0mr\u001b[0m\u001b[0;34m.\u001b[0m\u001b[0msplit\u001b[0m\u001b[0;34m(\u001b[0m\u001b[0;34m\"±\"\u001b[0m\u001b[0;34m)\u001b[0m\u001b[0;34m[\u001b[0m\u001b[0;36m0\u001b[0m\u001b[0;34m]\u001b[0m\u001b[0;34m.\u001b[0m\u001b[0msplit\u001b[0m\u001b[0;34m(\u001b[0m\u001b[0;34m\"runs)\"\u001b[0m\u001b[0;34m)\u001b[0m\u001b[0;34m[\u001b[0m\u001b[0;36m1\u001b[0m\u001b[0;34m]\u001b[0m\u001b[0;34m.\u001b[0m\u001b[0msplit\u001b[0m\u001b[0;34m(\u001b[0m\u001b[0;34m\"=\"\u001b[0m\u001b[0;34m)\u001b[0m\u001b[0;34m[\u001b[0m\u001b[0;36m1\u001b[0m\u001b[0;34m]\u001b[0m\u001b[0;34m.\u001b[0m\u001b[0mstrip\u001b[0m\u001b[0;34m(\u001b[0m\u001b[0;34m)\u001b[0m\u001b[0;34m)\u001b[0m \u001b[0;32mfor\u001b[0m \u001b[0mr\u001b[0m \u001b[0;32min\u001b[0m \u001b[0mresults\u001b[0m\u001b[0;34m]\u001b[0m\u001b[0;34m\u001b[0m\u001b[0;34m\u001b[0m\u001b[0m\n\u001b[1;32m     64\u001b[0m         \u001b[0mprint\u001b[0m\u001b[0;34m(\u001b[0m\u001b[0mresults\u001b[0m\u001b[0;34m)\u001b[0m\u001b[0;34m\u001b[0m\u001b[0;34m\u001b[0m\u001b[0m\n\u001b[0;32m---> 65\u001b[0;31m     \u001b[0;32massert\u001b[0m\u001b[0;34m(\u001b[0m\u001b[0mlen\u001b[0m\u001b[0;34m(\u001b[0m\u001b[0mresults\u001b[0m\u001b[0;34m)\u001b[0m \u001b[0;34m==\u001b[0m \u001b[0;36m6\u001b[0m\u001b[0;34m)\u001b[0m\u001b[0;34m\u001b[0m\u001b[0;34m\u001b[0m\u001b[0m\n\u001b[0m\u001b[1;32m     66\u001b[0m \u001b[0;34m\u001b[0m\u001b[0m\n\u001b[1;32m     67\u001b[0m     \u001b[0mtime_results\u001b[0m\u001b[0;34m.\u001b[0m\u001b[0mappend\u001b[0m\u001b[0;34m(\u001b[0m\u001b[0mresults\u001b[0m\u001b[0;34m)\u001b[0m\u001b[0;34m\u001b[0m\u001b[0;34m\u001b[0m\u001b[0m\n",
      "\u001b[0;31mAssertionError\u001b[0m: "
     ]
    }
   ],
   "source": [
    "loops = []\n",
    "omitted_counter = 0\n",
    "successfully_computed = 0\n",
    "colors = []\n",
    "time_results = []\n",
    "distances = []\n",
    "distances_previous = [0]\n",
    "sliced_logs = sliding_window_logs(log, start_times, WINDOW_SIZE)\n",
    "sliced_logs = sliced_logs[200::50]\n",
    "for l in sliced_logs:\n",
    "    edge_threshold = 3\n",
    "\n",
    "    if len(distances) > 0:\n",
    "        h1, h2 = transition_system(l, 3, sequence)\n",
    "        distances_previous.append(nx.graph_edit_distance(h1, help_g, timeout = 1))\n",
    "\n",
    "    help_g, edge_mapping = transition_system(l, 2, sequence)\n",
    "\n",
    "    loop_number = len(list(nx.simple_cycles(help_g)))\n",
    "\n",
    "    print(\"compute distance\")\n",
    "    distances.append(nx.graph_edit_distance(g_old_history, help_g, timeout = 1))\n",
    "    #assert(nx.is_weakly_connected(help_g))\n",
    "    loops.append(loop_number)\n",
    "    print(\"loop number\", loop_number)\n",
    "    #while len(list(nx.simple_cycles(help_g)))>8:\n",
    "    #    edge_threshold += 1\n",
    "    #    help_g = build_dfg(l, edge_threshold)\n",
    "    #    print(\"in loop\")\n",
    "    if len(list(nx.simple_cycles(help_g))) > 4:# or not nx.is_weakly_connected(help_g) or not \"finPos\" in list(nx.descendants(help_g, \"start\")):\n",
    "        omitted_counter += 1\n",
    "        colors.append(\"r\")\n",
    "        continue\n",
    "    extend_graph_with_actors(help_g,actors)\n",
    "    help_edge_cost = compute_edge_cost(help_g, l, edge_mapping)\n",
    "\n",
    "    help_g = annotate_graph(help_g, help_edge_cost)\n",
    "    help_g_outgoing = color_graph(help_g)\n",
    "    \n",
    "    if \"start\" not in help_g.nodes:\n",
    "        print(len(l))\n",
    "        print(l)\n",
    "        draw_dfg(help_g, \"graph_error.ps\")\n",
    "    \n",
    "    draw_dfg(help_g, \"graph_loops.ps\")\n",
    "    target = [s for s in help_g.nodes if \"finPos\" in s or \"finNeg\" in s]\n",
    "    help_g_unroll = unroll(help_g, \"start\", target, 1)\n",
    "    #draw_dfg(help_g_unroll, \"graph_loops_unrolled.ps\")\n",
    "    to_uppaal(help_g_unroll, \"unrolled_graph_transition.xml\", layout = \"dot\")\n",
    "\n",
    "    out = subprocess.Popen([VERIFYTA_PATH, \"/home/paul/Documents/User-Journey-Games/unrolled_graph_transition.xml\", \"/home/paul/Documents/User-Journey-Games/unrolled_graph_transition.q\"], stdout=subprocess.PIPE, stderr = subprocess.PIPE)\n",
    "    out.wait()\n",
    "    results, err = out.communicate()\n",
    "    results = results.decode(\"utf-8\") \n",
    "    err = err.decode(\"utf-8\") \n",
    "    #if \"Formula is NOT satisfied\" in results:\n",
    "    if err != \"\":\n",
    "        results = [-1,-1,-1,-1,-1,-1]\n",
    "    else:\n",
    "        results = results.split(\"\\n\")\n",
    "        results = [results[i+1] for i in range(len(results)-1) if \"Formula\" in results[i] and \"E\" in results[i+1]]\n",
    "        results = [r.replace(\"≈\", \"\") for r in results]\n",
    "        results = [float(r.split(\"±\")[0].split(\"runs)\")[1].split(\"=\")[1].strip()) for r in results]\n",
    "        print(results)\n",
    "    assert(len(results) == 6)\n",
    "\n",
    "    time_results.append(results)\n",
    "    successfully_computed += 1\n",
    "    colors.append(\"b\" if list(set(results)) == [-1] else \"g\")\n",
    "    print(len(loops), \"/\", len(sliced_logs))\n",
    "    assert(False)\n",
    "\n",
    "plt.hist(loops, 20)\n",
    "plt.show()\n",
    "plt.scatter(range(len(loops)), loops, s = 2, c = colors)\n",
    "plt.title(\"Loops\")\n",
    "plt.show()\n",
    "print(max(loops))\n",
    "print(\"successfully computed\", successfully_computed)\n",
    "plt.scatter(range(len(distances)), distances, s = 2, c = colors)\n",
    "plt.title(\"Distances\")\n",
    "plt.show()\n",
    "plt.scatter(range(len(distances_previous)), distances_previous, s = 2, c = colors)\n",
    "plt.title(\"Pairwise - Distances\")\n",
    "plt.show()"
   ]
  },
  {
   "cell_type": "code",
   "execution_count": 139,
   "id": "aed3fddb",
   "metadata": {},
   "outputs": [
    {
     "data": {
      "image/png": "[encoded data removed]",
      "text/plain": [
       "<Figure size 432x288 with 1 Axes>"
      ]
     },
     "metadata": {
      "needs_background": "light"
     },
     "output_type": "display_data"
    },
    {
     "data": {
      "image/png": "[encoded data removed]",
      "text/plain": [
       "<Figure size 432x288 with 1 Axes>"
      ]
     },
     "metadata": {
      "needs_background": "light"
     },
     "output_type": "display_data"
    },
    {
     "data": {
      "image/png": "[encoded data removed]",
      "text/plain": [
       "<Figure size 432x288 with 1 Axes>"
      ]
     },
     "metadata": {
      "needs_background": "light"
     },
     "output_type": "display_data"
    },
    {
     "data": {
      "image/png": "[encoded data removed]",
      "text/plain": [
       "<Figure size 432x288 with 1 Axes>"
      ]
     },
     "metadata": {
      "needs_background": "light"
     },
     "output_type": "display_data"
    },
    {
     "data": {
      "image/png": "[encoded data removed]",
      "text/plain": [
       "<Figure size 432x288 with 1 Axes>"
      ]
     },
     "metadata": {
      "needs_background": "light"
     },
     "output_type": "display_data"
    },
    {
     "data": {
      "image/png": "[encoded data removed]",
      "text/plain": [
       "<Figure size 432x288 with 1 Axes>"
      ]
     },
     "metadata": {
      "needs_background": "light"
     },
     "output_type": "display_data"
    }
   ],
   "source": [
    "lables = [\"max_steps\", \"min_gas\", \"min_final_gas\"]\n",
    "for i in range(6):\n",
    "    plt.scatter(range(len(time_results)), [r[i] for r in time_results], s = 2)\n",
    "    plt.title(lables[i%3])\n",
    "    plt.show()"
   ]
  },
  {
   "cell_type": "code",
   "execution_count": 123,
   "id": "1ba16eba",
   "metadata": {},
   "outputs": [
    {
     "data": {
      "image/png": "[encoded data removed]",
      "text/plain": [
       "<Figure size 432x288 with 1 Axes>"
      ]
     },
     "metadata": {
      "needs_background": "light"
     },
     "output_type": "display_data"
    },
    {
     "name": "stdout",
     "output_type": "stream",
     "text": [
      "1457\n"
     ]
    },
    {
     "data": {
      "image/png": "[encoded data removed]",
      "text/plain": [
       "<Figure size 432x288 with 1 Axes>"
      ]
     },
     "metadata": {
      "needs_background": "light"
     },
     "output_type": "display_data"
    },
    {
     "name": "stdout",
     "output_type": "stream",
     "text": [
      "379\n"
     ]
    }
   ],
   "source": [
    "plt.hist(loops, 20)\n",
    "plt.show()\n",
    "print(max(loops))\n",
    "plt.scatter(range(len(loops)), loops)\n",
    "plt.show()\n",
    "print(len([l for l in loops if l <= 6]))"
   ]
  },
  {
   "attachments": {},
   "cell_type": "markdown",
   "id": "89346f37",
   "metadata": {},
   "source": [
    "# Analysis big data set"
   ]
  },
  {
   "cell_type": "code",
   "execution_count": 166,
   "id": "7dd1247a",
   "metadata": {},
   "outputs": [
    {
     "name": "stdout",
     "output_type": "stream",
     "text": [
      "True\n",
      "plotted graph.ps\n",
      "Edge cost was computed\n"
     ]
    }
   ],
   "source": [
    "running_log = log[300:400]\n",
    "#g, edge_mapping = transition_system(running_log, 3, sequence)\n",
    "g =  build_dfg(running_log, 3)\n",
    "draw_dfg(g, \"graph.ps\")\n",
    "\n",
    "extend_graph_with_actors(g,actors)\n",
    "edge_cost = compute_edge_cost(g, running_log)\n",
    "g = annotate_graph(g, edge_cost)\n",
    "\n",
    "g_outgoing = color_graph(g)\n",
    "g_outgoing = nx.relabel_nodes(g_outgoing, naming)\n",
    "draw_dfg_clustered(g_outgoing, 'outgoing_clustered.png')"
   ]
  },
  {
   "cell_type": "code",
   "execution_count": 164,
   "id": "a74256f8",
   "metadata": {},
   "outputs": [
    {
     "name": "stdout",
     "output_type": "stream",
     "text": [
      "132\n"
     ]
    }
   ],
   "source": [
    "print(len(list(nx.simple_cycles(g))))"
   ]
  },
  {
   "cell_type": "code",
   "execution_count": null,
   "id": "7e4cd8b1",
   "metadata": {},
   "outputs": [],
   "source": [
    "g_unroll = unroll(g, \"start\", [\"finPos\", \"finNeg\"], 1)\n",
    "A = to_agraph(g_unroll)\n",
    "A.layout('dot')\n",
    "if SAVE_ELEMENTS:\n",
    "    A.draw('unrolled.ps')"
   ]
  },
  {
   "cell_type": "code",
   "execution_count": 274,
   "id": "31be360b",
   "metadata": {},
   "outputs": [
    {
     "name": "stdout",
     "output_type": "stream",
     "text": [
      "-3936737091066850.0\n"
     ]
    },
    {
     "data": {
      "image/png": "[encoded data removed]",
      "text/plain": [
       "<Figure size 432x288 with 1 Axes>"
      ]
     },
     "metadata": {
      "needs_background": "light"
     },
     "output_type": "display_data"
    }
   ],
   "source": [
    "from sklearn.mixture import BayesianGaussianMixture\n",
    "from sklearn.cluster import KMeans\n",
    "\n",
    "n_clusters = 6\n",
    "r_state = 2359\n",
    "\n",
    "X = [float(s.timestamp()) for s in start_times]\n",
    "X = np.array(X).reshape(-1,1)\n",
    "model = BayesianGaussianMixture(n_components=n_cluster, random_state=r_state, max_iter = 1000000).fit(X)\n",
    "\n",
    "model = KMeans(n_clusters=n_clusters, random_state=r_state).fit(X)\n",
    "print(model.score(X))\n",
    "\n",
    "sorted_times = sorted(times.items(), key=lambda item: item[1])\n",
    "count = 0\n",
    "for t in sorted_times:\n",
    "    cluster = model.predict([[t[1][0].timestamp()]])[0]\n",
    "    plt.plot([t[1][0],t[1][1]], [count, count], c= sns.color_palette(\"husl\", 10)[cluster])\n",
    "    count += 1\n",
    "plt.title(\"Duration of journeys\")\n",
    "plt.show()"
   ]
  },
  {
   "cell_type": "code",
   "execution_count": 270,
   "id": "bb5989ee",
   "metadata": {},
   "outputs": [
    {
     "name": "stdout",
     "output_type": "stream",
     "text": [
      "1\n"
     ]
    }
   ],
   "source": [
    "clustered_logs = []\n",
    "predictions = model.predict(X)\n",
    "for c in range(n_clusters):\n",
    "    clustered_logs.append([log[i] for i in range(len(log)) if predictions[i] == c])\n",
    "print(len(clustered_logs))"
   ]
  },
  {
   "cell_type": "code",
   "execution_count": 271,
   "id": "57d6794a",
   "metadata": {},
   "outputs": [
    {
     "name": "stdout",
     "output_type": "stream",
     "text": [
      "log 0\n",
      "has length 526\n",
      "ratio 0.7129277566539924\n",
      "total cancellations 151\n"
     ]
    }
   ],
   "source": [
    "for i in range(len(clustered_logs)):\n",
    "    l = clustered_logs[i]\n",
    "    print(\"log\", i)\n",
    "    print(\"has length\", len(l))\n",
    "    print(\"ratio\", len([t for t in l if \"finPos\" in t])/len(l))\n",
    "    print(\"total cancellations\", len([t for t in l if \"finNeg\" in t]))"
   ]
  },
  {
   "cell_type": "code",
   "execution_count": 273,
   "id": "9ca42e3d",
   "metadata": {},
   "outputs": [
    {
     "name": "stdout",
     "output_type": "stream",
     "text": [
      "edge_threshold 3 with 6418 loops\n",
      "Edge cost was computed\n",
      "plotted ./clusters/graph0.ps\n"
     ]
    }
   ],
   "source": [
    "#g, edge_mapping = transition_system(running_log, 3, sequence)\n",
    "for i in range(len(clustered_logs)):\n",
    "    l = clustered_logs[i]\n",
    "    edge_threshold = 3\n",
    "\n",
    "    g =  build_dfg(l, edge_threshold)\n",
    "    #g, edge_mapping = transition_system(l, 3, ms)\n",
    "    loop_number = len(list(nx.simple_cycles(g)))\n",
    "    #while(loop_number>10):\n",
    "    #    edge_threshold += 1\n",
    "    #    g =  build_dfg(l, edge_threshold)\n",
    "    #    loop_number = len(list(nx.simple_cycles(g)))\n",
    "    print(\"edge_threshold\", edge_threshold, \"with\", loop_number, \"loops\")\n",
    "    extend_graph_with_actors(g,actors)\n",
    "    edge_cost = compute_edge_cost(g, l)\n",
    "    g = annotate_graph(g, edge_cost)\n",
    "\n",
    "    draw_dfg(g, \"./clusters/graph\"+str(i)+\".ps\")\n",
    "    \n",
    "    g_outgoing = color_graph(g)\n",
    "    g_outgoing = nx.relabel_nodes(g_outgoing, naming)\n",
    "    draw_dfg_clustered(g_outgoing, 'outgoing_clustered.png')"
   ]
  },
  {
   "cell_type": "code",
   "execution_count": null,
   "id": "b3d6ca92",
   "metadata": {},
   "outputs": [],
   "source": []
  }
 ],
 "metadata": {
  "kernelspec": {
   "display_name": "Python 3",
   "language": "python",
   "name": "python3"
  },
  "language_info": {
   "codemirror_mode": {
    "name": "ipython",
    "version": 3
   },
   "file_extension": ".py",
   "mimetype": "text/x-python",
   "name": "python",
   "nbconvert_exporter": "python",
   "pygments_lexer": "ipython3",
   "version": "3.8.10"
  },
  "vscode": {
   "interpreter": {
    "hash": "916dbcbb3f70747c44a77c7bcd40155683ae19c65e1c03b4aa3499c5328201f1"
   }
  }
 },
 "nbformat": 4,
 "nbformat_minor": 5
}
