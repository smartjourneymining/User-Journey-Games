{
 "cells": [
  {
   "cell_type": "code",
   "execution_count": 1,
   "id": "eeec8b18",
   "metadata": {},
   "outputs": [],
   "source": [
    "# User variables\n",
    "SAVE_ELEMENTS = True # True if figures and models shall be saved"
   ]
  },
  {
   "cell_type": "code",
   "execution_count": 2,
   "id": "6e43f412",
   "metadata": {},
   "outputs": [],
   "source": [
    "# Imports\n",
    "import numpy as np\n",
    "import random\n",
    "import pandas as pd\n",
    "import matplotlib.pyplot as plt\n",
    "import networkx as nx\n",
    "import copy\n",
    "from pm4py.objects.log.util import dataframe_utils\n",
    "from networkx.drawing.nx_agraph import graphviz_layout, to_agraph\n",
    "import pygraphviz as pgv\n",
    "import json\n",
    "import seaborn as sns\n",
    "from collections import Counter"
   ]
  },
  {
   "cell_type": "markdown",
   "id": "9a6a336c",
   "metadata": {},
   "source": [
    "# Preprocessing\n",
    "The data is loaded and preprocessed.\n",
    "Names of events are parsed and unused events are removed."
   ]
  },
  {
   "cell_type": "code",
   "execution_count": 3,
   "id": "58f31a9e",
   "metadata": {},
   "outputs": [],
   "source": [
    "# removes unused events and parses event names\n",
    "def process_touchpoint_names(df):\n",
    "    running_df = df[df['Type'].isin(['state', 'feedback','subject', 'task'])].copy()\n",
    "    running_df['concept:name'] = running_df['concept:name'].str.replace(r\"loggedIn.*\",\"loggedIn\") # removes feedback attributes\n",
    "    running_df['concept:name'] = running_df['concept:name'].str.replace(r\"\\[.*\\]\",\"\") # removes feedback attributes\n",
    "    running_df['concept:name'] = running_df['concept:name'].str.replace(\",\", \"\")\n",
    "    running_df['concept:name'] = running_df['concept:name'].str.split('version').str[0]\n",
    "    running_df['concept:name'] = running_df['concept:name'].str.split('Time used').str[0]\n",
    "    running_df['concept:name'] = running_df['concept:name'].str.split('taskDownloaded').str[0]\n",
    "    running_df['concept:name'] = running_df['concept:name'].str.split('testCompleted').str[0]\n",
    "    running_df['concept:name'] = running_df['concept:name'].str.split('itemCompleted').str[0]\n",
    "    running_df['concept:name'] = running_df['concept:name'].str.strip()\n",
    "\n",
    "    m = running_df['concept:name'].str.contains(\"survey:\")\n",
    "    running_df.loc[m, 'concept:name'] = running_df['concept:name'][m].str.split('survey: ').str[1]\n",
    "\n",
    "    m = running_df['Type'] == 'state'\n",
    "    running_df.loc[m, 'concept:name'] = running_df['concept:name'][m].values\n",
    "    running_df.loc[~m, 'concept:name'] = running_df['concept:name'][~m].values\n",
    "    return running_df\n",
    "\n",
    "# Filters the dataset to only contain traces with length in [lower_bound, upper_bound]\n",
    "def get_filtered_df(path, lower_bound = 15, upper_bound = 60):\n",
    "    df = pd.read_csv(path, sep=';', index_col = False)\n",
    "\n",
    "    log_csv = dataframe_utils.convert_timestamp_columns_in_df(df)\n",
    "    log_csv = log_csv.sort_values('Timestamp')\n",
    "\n",
    "    developers_finished_ids = set(log_csv[log_csv['Message'] == \"finished\"]['Developer ID'].sort_values().values)\n",
    "\n",
    "    #rename columns to process mining notation\n",
    "    log_csv.rename(columns={'Developer ID': 'case:DeveloperID', 'Message' : 'concept:name', 'Timestamp':'time:timestamp'}, inplace=True)\n",
    "    log_csv['time:timestamp'] = pd.to_datetime(log_csv['time:timestamp'], unit='s')\n",
    "\n",
    "    # process touchpoint names\n",
    "    developers_df = process_touchpoint_names(log_csv)\n",
    "\n",
    "    #filter used logs\n",
    "    developers_df = developers_df.groupby(['case:DeveloperID']).filter(lambda x: len(x) >= lower_bound and len(x) <= upper_bound)\n",
    "\n",
    "    unsuccesfull = developers_df[~developers_df['case:DeveloperID'].isin(list(developers_finished_ids))]['case:DeveloperID'].value_counts().to_list()\n",
    "    succesfull = developers_df[developers_df['case:DeveloperID'].isin(list(developers_finished_ids))]['case:DeveloperID'].value_counts().to_list()\n",
    "    plt.scatter(range(len(unsuccesfull)), unsuccesfull, c = \"r\", s = 7)\n",
    "    plt.scatter(range(len(unsuccesfull),len(unsuccesfull)+(len(succesfull))), succesfull, c = \"b\", s = 7)\n",
    "    plt.xlabel(\"Journeys\")\n",
    "    plt.ylabel(\"Length\")\n",
    "    plt.show()\n",
    "    print(\"Includes #unsuccesfull:\", len(unsuccesfull),\"and #succesfull\", len(succesfull))\n",
    "    \n",
    "    print(\"Histograms\")\n",
    "    sns.displot(data=pd.DataFrame({\"Journey Length - Successfull\": succesfull}),\n",
    "            x=\"Journey Length - Successfull\", color='blueviolet', height=3)\n",
    "    plt.show()\n",
    "    \n",
    "    sns.displot(data=pd.DataFrame({\"Journey Length - Unsuccessfull\": unsuccesfull}),\n",
    "            x=\"Journey Length - Unsuccessfull\", color='blueviolet', height=3)\n",
    "    plt.show()\n",
    "    \n",
    "\n",
    "    developers_df = developers_df.sort_values(by=['time:timestamp'])\n",
    "\n",
    "    return developers_df"
   ]
  },
  {
   "cell_type": "code",
   "execution_count": 4,
   "id": "357eff34",
   "metadata": {},
   "outputs": [
    {
     "name": "stderr",
     "output_type": "stream",
     "text": [
      "/tmp/ipykernel_22397/735489142.py:4: FutureWarning: The default value of regex will change from True to False in a future version.\n",
      "  running_df['concept:name'] = running_df['concept:name'].str.replace(r\"loggedIn.*\",\"loggedIn\") # removes feedback attributes\n",
      "/tmp/ipykernel_22397/735489142.py:5: FutureWarning: The default value of regex will change from True to False in a future version.\n",
      "  running_df['concept:name'] = running_df['concept:name'].str.replace(r\"\\[.*\\]\",\"\") # removes feedback attributes\n"
     ]
    },
    {
     "data": {
      "image/png": "[encoded data removed]",
      "text/plain": [
       "<Figure size 432x288 with 1 Axes>"
      ]
     },
     "metadata": {
      "needs_background": "light"
     },
     "output_type": "display_data"
    },
    {
     "name": "stdout",
     "output_type": "stream",
     "text": [
      "Includes #unsuccesfull: 16 and #succesfull 17\n",
      "Histograms\n"
     ]
    },
    {
     "data": {
      "image/png": "[encoded data removed]",
      "text/plain": [
       "<Figure size 216x216 with 1 Axes>"
      ]
     },
     "metadata": {
      "needs_background": "light"
     },
     "output_type": "display_data"
    },
    {
     "data": {
      "image/png": "[encoded data removed]",
      "text/plain": [
       "<Figure size 216x216 with 1 Axes>"
      ]
     },
     "metadata": {
      "needs_background": "light"
     },
     "output_type": "display_data"
    }
   ],
   "source": [
    "filtered_df = get_filtered_df(\"20210706-132203-sjm-anonymized.csv\")"
   ]
  },
  {
   "cell_type": "markdown",
   "id": "0da2df48",
   "metadata": {},
   "source": [
    "# Build log\n",
    "The dataset is flattened to a log structure"
   ]
  },
  {
   "cell_type": "code",
   "execution_count": 5,
   "id": "2312abf5",
   "metadata": {},
   "outputs": [],
   "source": [
    "success_states = ['finished']\n",
    "# A log consists of traces, where each trace contains all elements from one developer \n",
    "def build_log(df):\n",
    "    log = []\n",
    "    running_df = df.copy()\n",
    "    running_df = running_df.sort_values(by=['time:timestamp'])\n",
    "    developers_id = set(running_df['case:DeveloperID'].values)\n",
    "    for dev_id in developers_id:\n",
    "        current_trace = running_df[running_df['case:DeveloperID'] == dev_id]['concept:name'].values\n",
    "        # add unique start node \"start\"\n",
    "        current_trace = np.insert(current_trace,0,\"start\")\n",
    "        # attach final node finPos / finNeg\n",
    "        if(any(s in current_trace for s in success_states)):\n",
    "            current_trace = np.append(current_trace,\"finPos\")\n",
    "        else:\n",
    "            current_trace = np.append(current_trace,\"finNeg\")\n",
    "        log.append(current_trace)\n",
    "        \n",
    "    # alter \"logged in: Web page\" to determine phase of journey:\n",
    "    # Phase (1) sign up, (2) solve all programming tasks, and  (3) review and share the skill report with the customer.\n",
    "    for t in log:\n",
    "        indices = [i for i, x in enumerate(t) if x == \"Logged in: Web page\"]\n",
    "        for i in indices:\n",
    "            t[i] = \"Logged in: Web page - Sign up\"\n",
    "            result = np.where(t == \"Task event:\")\n",
    "            if \"Task event:\" in t and result[0][0] < i:\n",
    "                t[i] = \"Logged in: Web page - Task\"\n",
    "            result = np.where(t == \"waitingForResultApproval\")\n",
    "            if \"waitingForResultApproval\" in t and result[0][0] < i:\n",
    "                t[i] = \"Logged in: Web page - Approval\"\n",
    "                \n",
    "    # add task number\n",
    "    for t in log:\n",
    "        indices_feedback = [i for i, x in enumerate(t) if x == \"Give feedback\"]\n",
    "        indices_task = [i for i, x in enumerate(t) if x == \"Task event:\"]\n",
    "        for i in indices_task:\n",
    "            count_indices = [j for j in indices_feedback if j < i] # uses feedback to increase task counter after giving feedback\n",
    "            t[i] += \" \"+str(len(count_indices))\n",
    "    # add feedback number        \n",
    "    for t in log:\n",
    "        indices_feedback = [i for i, x in enumerate(t) if x == \"Give feedback\"]\n",
    "        indices_task = [i for i, x in enumerate(t) if x == \"Task event:\"]\n",
    "        for i in indices_feedback:\n",
    "            count_indices = [j for j in indices_feedback if j < i]\n",
    "            t[i] += \" \"+str(len(count_indices))\n",
    "    \n",
    "    return log\n",
    "\n",
    "def isInTrace(s,t, trace):\n",
    "    for i in range(len(trace)-1):\n",
    "        if trace[i] == s and trace[i+1] == t:\n",
    "            return True\n",
    "    return False"
   ]
  },
  {
   "cell_type": "code",
   "execution_count": 6,
   "id": "07dba2c5",
   "metadata": {},
   "outputs": [],
   "source": [
    "log = build_log(filtered_df)"
   ]
  },
  {
   "cell_type": "markdown",
   "id": "7d7a7268",
   "metadata": {},
   "source": [
    "# Create DFG"
   ]
  },
  {
   "cell_type": "code",
   "execution_count": 7,
   "id": "138ed1d0",
   "metadata": {},
   "outputs": [],
   "source": [
    "# Builds the directly follows graph according to the log\n",
    "# Removes all edges which are traversed less than \"threshold\" times\n",
    "def build_dfg(log, threshold):\n",
    "    states = list(set([item for sublist in log for item in sublist])) # flatten list\n",
    "\n",
    "    edges = []\n",
    "    edge_counter = {}\n",
    "    for trace in log:\n",
    "        s = \"start\"\n",
    "        assert(trace[0]==\"start\")\n",
    "        for pos in trace[1:]:\n",
    "            t = pos\n",
    "            e = (s,t)\n",
    "            if e not in edges:\n",
    "                edges.append(e)\n",
    "                edge_counter[e] = 1\n",
    "            else:\n",
    "                edge_counter[e] = edge_counter[e]+1\n",
    "            s = t\n",
    "    \n",
    "    g = nx.DiGraph()\n",
    "    g.add_nodes_from(states)\n",
    "    max_val = max(edge_counter.values())\n",
    "    for e in edges:\n",
    "        g.add_edge(e[0], e[1], edge_weight = edge_counter[e]/max_val) # adds \"thickness\" element\n",
    "\n",
    "    # remove all simple loops & rarely traversed edges\n",
    "    to_remove = []\n",
    "    for e in g.edges:\n",
    "        if e[0] == e[1]:\n",
    "            to_remove.append(e)\n",
    "        if edge_counter[e] <= threshold:\n",
    "            to_remove.append(e)\n",
    "\n",
    "    for e in to_remove:\n",
    "        if e in g.edges():\n",
    "            g.remove_edge(e[0],e[1])\n",
    "    \n",
    "    # remove isolated nodes\n",
    "    g.remove_nodes_from(list(nx.isolates(g)))\n",
    "    \n",
    "    return g\n",
    "\n",
    "def draw_dfg(g, name):\n",
    "    # build graph with variable thicknes\n",
    "    scaling = 10/np.mean(list(nx.get_edge_attributes(g,'edge_weight').values()))\n",
    "\n",
    "    A = to_agraph(g)\n",
    "    edge_weights = nx.get_edge_attributes(g,'edge_weight')\n",
    "\n",
    "    for e in edge_weights:\n",
    "        e = A.get_edge(e[0], e[1])\n",
    "        e.attr[\"penwidth\"] = edge_weights[e]*scaling\n",
    "        e.attr[\"fontsize\"] = \"20\"\n",
    "        if 'controllable' in g.nodes[e[1]]:\n",
    "            if not g.nodes[e[1]]['controllable']:\n",
    "                e.attr[\"style\"] = \"dotted\"\n",
    "        #A.add_edge(e[0], e[1], penwidth = edge_weights[e]*scaling)\n",
    "\n",
    "    #A.graph_attr.update(size=\"7.75,10.25\")\n",
    "    A.layout(\"dot\")\n",
    "    if SAVE_ELEMENTS:\n",
    "        A.draw(name)"
   ]
  },
  {
   "cell_type": "code",
   "execution_count": 8,
   "id": "b33d000e",
   "metadata": {},
   "outputs": [],
   "source": [
    "g = build_dfg(log,3)"
   ]
  },
  {
   "cell_type": "markdown",
   "id": "b00e1454",
   "metadata": {},
   "source": [
    "# Burnd-Down Chart of Developers"
   ]
  },
  {
   "cell_type": "code",
   "execution_count": 9,
   "id": "55c169dd",
   "metadata": {},
   "outputs": [],
   "source": [
    "# Draw the burn down chart of developers leaving the journey per touchpoint, Figure 6\n",
    "def draw_burn_down(g,s, t, log):\n",
    "    g_copy = copy.deepcopy(g)\n",
    "    edge_counter = {}\n",
    "    node_counter = {}\n",
    "    \n",
    "    for trace in log:\n",
    "        s = \"start\"\n",
    "        assert(trace[0]==\"start\")\n",
    "        for pos in trace[1:]:\n",
    "            t = pos\n",
    "            e = (s,t)\n",
    "            if e not in edge_counter:\n",
    "                edge_counter[e] = 1\n",
    "            else:\n",
    "                edge_counter[e] = edge_counter[e]+1\n",
    "            s = t\n",
    "            \n",
    "    for trace in log:\n",
    "        for pos in set(trace):\n",
    "            if pos in node_counter:\n",
    "                node_counter[pos] = node_counter[pos]+1\n",
    "            else:\n",
    "                node_counter[pos] = 1\n",
    "            continue\n",
    "\n",
    "    for e in edge_counter:\n",
    "        if e[1] == \"finNeg\":\n",
    "            print(e, edge_counter[e])\n",
    "    \n",
    "    x = [100,81, 72, 64, 52]\n",
    "    y = [\"start\", \"T10\", \"T12\", \"T14\", \"T25\"]\n",
    "    x2 = [0,18,9,9,12]\n",
    "    y2 = [\"start\", \"T10\", \"T12\", \"T14\", \"T25\"]\n",
    "    fig = plt.figure()\n",
    "    ax = fig.add_axes([0,0,1,1])\n",
    "    ax.plot(y,x, 'o-')\n",
    "    ax.bar(y2, x2, color=\"r\")\n",
    "    plt.ylabel(\"Developers (in %)\", fontsize=18)\n",
    "    plt.xlabel(\"Events\", fontsize=18)\n",
    "    plt.show()"
   ]
  },
  {
   "cell_type": "code",
   "execution_count": 10,
   "id": "4991b213",
   "metadata": {},
   "outputs": [
    {
     "name": "stdout",
     "output_type": "stream",
     "text": [
      "('Task event: 1', 'finNeg') 6\n",
      "('Task event: 2', 'finNeg') 3\n",
      "('waitingForActivityReport', 'finNeg') 4\n",
      "('Task event: 3', 'finNeg') 3\n"
     ]
    },
    {
     "data": {
      "image/png": "[encoded data removed]",
      "text/plain": [
       "<Figure size 432x288 with 1 Axes>"
      ]
     },
     "metadata": {
      "needs_background": "light"
     },
     "output_type": "display_data"
    }
   ],
   "source": [
    "draw_burn_down(g, \"start\", \"finNeg\", log)"
   ]
  },
  {
   "cell_type": "markdown",
   "id": "257e6f04",
   "metadata": {},
   "source": [
    "# DFG to Customer Journey Game"
   ]
  },
  {
   "cell_type": "code",
   "execution_count": 11,
   "id": "a5d9214a",
   "metadata": {},
   "outputs": [],
   "source": [
    "# load actors from given file\n",
    "# The file maps events to actors in xml format\n",
    "# Every unspecified event is controllable\n",
    "with open('activities.xml') as f:\n",
    "    data = f.read()\n",
    "actors = json.loads(data)"
   ]
  },
  {
   "cell_type": "code",
   "execution_count": 12,
   "id": "26f32ae2",
   "metadata": {},
   "outputs": [],
   "source": [
    "# stores actors in graph\n",
    "def extend_graph_with_actors(g, actors):  \n",
    "    for node in g.nodes:\n",
    "        if node not in actors:\n",
    "            g.nodes[node]['controllable'] = True\n",
    "        else:\n",
    "            g.nodes[node]['controllable'] = actors[node] == \"company\""
   ]
  },
  {
   "cell_type": "code",
   "execution_count": 13,
   "id": "b4a08a3e",
   "metadata": {},
   "outputs": [],
   "source": [
    "extend_graph_with_actors(g,actors)"
   ]
  },
  {
   "cell_type": "code",
   "execution_count": 14,
   "id": "52b623a3",
   "metadata": {},
   "outputs": [],
   "source": [
    "# Helper functions to compute weights for edges\n",
    "\n",
    "def isInTrace(s,t, trace):\n",
    "    for i in range(len(trace)-1):\n",
    "        if trace[i] == s and trace[i+1] == t:\n",
    "            return True\n",
    "    return False\n",
    "\n",
    "def weight(trace):\n",
    "    return 1 if any(\"finished\" in pos for pos in trace) else -1\n",
    "\n",
    "def majority(s,t,log):\n",
    "    maj = 0\n",
    "    for trace in log:\n",
    "        if isInTrace(s,t,trace):\n",
    "            maj += weight(trace)\n",
    "    return 1 if maj == 0 else int(maj/abs(maj))\n",
    "\n",
    "def entropy(p1, p2):\n",
    "    if p1 == 0 or p2 == 0:\n",
    "        return 0\n",
    "    return - p1*np.log2(p1) - p2* np.log2(p2)\n",
    "\n",
    "def distribution(s,t,log):\n",
    "    distr = {1.0: 0 , -1.0 : 0}\n",
    "    for trace in log:\n",
    "        if isInTrace(s,t,trace):\n",
    "            w = weight(trace)\n",
    "            distr[w] += 1\n",
    "    return distr[1], distr[-1]\n",
    "\n",
    "def compute_edge_cost(log):\n",
    "    weights = [1 if \"finished\" in i else -1 for i in log]\n",
    "    edge_cost = {}\n",
    "    for s in g.nodes:\n",
    "        for t in g[s]:\n",
    "            p1, p2 = distribution(s,t,log)\n",
    "            wp1 = p1/(p1+p2)\n",
    "            wp2 = p2/(p1+p2)\n",
    "            w = majority(s,t,log)\n",
    "            scaling = 10\n",
    "            edge_cost[(s,t)] = (((1-entropy(wp1,wp2)) * w) -0.1 )*20\n",
    "    print(\"Edge cost was computed\")\n",
    "    return edge_cost"
   ]
  },
  {
   "cell_type": "code",
   "execution_count": 15,
   "id": "19118ac6",
   "metadata": {},
   "outputs": [
    {
     "name": "stdout",
     "output_type": "stream",
     "text": [
      "Edge cost was computed\n"
     ]
    }
   ],
   "source": [
    "edge_cost = compute_edge_cost(log)"
   ]
  },
  {
   "cell_type": "code",
   "execution_count": 16,
   "id": "f7630914",
   "metadata": {},
   "outputs": [],
   "source": [
    "# annotates graph with cost-labels\n",
    "def annotate_graph(g, edge_cost):\n",
    "    for e in edge_cost:\n",
    "        g[e[0]][e[1]]['label'] = round(edge_cost[e],2)\n",
    "    return g\n",
    "\n",
    "# Colors graph labels green/red depending of the weight is positive or negative\n",
    "def color_graph(g):\n",
    "    g = copy.deepcopy(g)\n",
    "    for e in g.edges:\n",
    "        if g[e[0]][e[1]]['label'] > 0:\n",
    "            g[e[0]][e[1]]['color'] =\"darkgreen\"\n",
    "        if g[e[0]][e[1]]['label'] < 0:\n",
    "            g[e[0]][e[1]]['color'] =\"red\"\n",
    "    \n",
    "    return g\n",
    "\n",
    "# Plots clustered DFG, Figure 5\n",
    "def draw_dfg_clustered(g, name):\n",
    "    # build graph with variable thicknes\n",
    "    scaling = 10/np.mean(list(nx.get_edge_attributes(g,'edge_weight').values()))\n",
    "\n",
    "    A = to_agraph(g)\n",
    "    edge_weights = nx.get_edge_attributes(g,'edge_weight')\n",
    "\n",
    "    for e in edge_weights:\n",
    "        e = A.get_edge(e[0], e[1])\n",
    "        e.attr[\"penwidth\"] = edge_weights[e]*scaling\n",
    "        e.attr[\"fontsize\"] = 70\n",
    "        if 'controllable' in g.nodes[e[1]]:\n",
    "            if not g.nodes[e[1]]['controllable']:\n",
    "                e.attr[\"style\"] = \"dotted\"\n",
    "\n",
    "    for n in A.nodes():\n",
    "        n.attr['fontsize'] = 80\n",
    "    onboarding = [\"T\"+str(i) for i in range(0,6)]\n",
    "    A.add_subgraph(onboarding, name='cluster_onboarding', label= \"Sign-up\", color = \"orange\", fontsize = 60, fontcolor = \"orange\")\n",
    "    task = [\"T\"+str(i) for i in range(6,21)]\n",
    "    A.add_subgraph(task, name='cluster_task', label= \"Solve tasks\", color = \"blue\", fontsize = 60, fontcolor = \"blue\")\n",
    "    evaluation = [\"T\"+str(i) for i in range(21,27)]\n",
    "    A.add_subgraph(evaluation, name='cluster_evaluation', label= \"Review and share\", color = \"purple\", fontsize = 60, fontcolor = \"purple\")\n",
    "    A.layout(\"dot\")\n",
    "    if SAVE_ELEMENTS:\n",
    "        A.draw(name)\n",
    "        \n",
    "# Introduced naming for readable function\n",
    "naming = {\n",
    "    \"registered\" : \"T0\",\n",
    "    \"activated\": \"T1\",\n",
    "    \"Logged in: Web page - Sign up\" : \"T2\",\n",
    "    \"vpcCreateUserOnInstance\" : \"T3\",\n",
    "    \"vpcAssignInstance\" : \"T4\",\n",
    "    \"readyToStart\" : \"T5\",\n",
    "    \"Task event: loggedIn\" : \"T6\",\n",
    "    \"started\" : \"T7\",\n",
    "    \"Task event: 0\": \"T8\",\n",
    "    \"Give feedback 0\" : \"T9\",\n",
    "    \"Task event: 1\": \"T10\",\n",
    "    \"Give feedback 1\" : \"T11\",\n",
    "    \"Task event: 2\": \"T12\",\n",
    "    \"Give feedback 2\" : \"T13\",\n",
    "    \"Task event: 3\": \"T14\",\n",
    "    \"Give feedback 3\" : \"T15\",\n",
    "    \"Task event: 4\": \"T16\",\n",
    "    \"Give feedback 4\" : \"T17\",\n",
    "    \"Task event: 5\": \"T18\",\n",
    "    \"waitingForManualScores\" : \"T19\",\n",
    "    \"Logged in: Web page - Task\" : \"T20\",\n",
    "    \"waitingForScores\" : \"T21\",\n",
    "    \"waitingForResultApproval\" : \"T22\",\n",
    "    \"waitingForSubjectAcceptance\" : \"T23\",\n",
    "    \"subjectAcceptanceReceived\" : \"T24\",\n",
    "    \"Results automatically shared\" : \"T24\",\n",
    "    \"waitingForActivityReport\" : \"T25\",\n",
    "    \"Logged in: Web page - Approval\" : \"T26\"\n",
    "}"
   ]
  },
  {
   "cell_type": "code",
   "execution_count": 17,
   "id": "565c2244",
   "metadata": {},
   "outputs": [],
   "source": [
    "g = annotate_graph(g, edge_cost)\n",
    "g_outgoing = color_graph(g)\n",
    "g_outgoing = nx.relabel_nodes(g_outgoing, naming)\n",
    "draw_dfg_clustered(g_outgoing, 'outgoing_clustered.png')"
   ]
  },
  {
   "cell_type": "markdown",
   "id": "e48a7373",
   "metadata": {},
   "source": [
    "# Mapping to UPPAAL Model"
   ]
  },
  {
   "cell_type": "code",
   "execution_count": 18,
   "id": "e38299ee",
   "metadata": {},
   "outputs": [],
   "source": [
    "# Computes all possible shift of lists\n",
    "def shifted_lists(l):\n",
    "    shifted_lists = []\n",
    "    for j in range(len(l)):\n",
    "        list_constructed = copy.deepcopy(l[j:])\n",
    "        list_constructed.extend(l[:j])\n",
    "        list_constructed.append(list_constructed[0])\n",
    "        shifted_lists.append(list_constructed)\n",
    "    return shifted_lists\n",
    "\n",
    "# checks if history hist contains circle c\n",
    "def contains(hist, c):\n",
    "    n = len(c)+1\n",
    "    max_count = 0\n",
    "    lists = shifted_lists(c)\n",
    "    for helper_list in lists:\n",
    "        count = 0\n",
    "        for i in range(len(hist)-(n-1)):\n",
    "            if hist[i:i+n] == helper_list:\n",
    "                count += 1\n",
    "        max_count = max(max_count, count)\n",
    "    return max_count\n",
    "\n",
    "# returns true if edge (e,v) is on c\n",
    "def is_on(e,v,c):\n",
    "    for i in range(len(c)-1):\n",
    "        if c[i] == e and c[i+1] == v:\n",
    "            return True\n",
    "    if c[-1] == e and c[0] == v:\n",
    "        return True\n",
    "\n",
    "\n",
    "# Presented Unrolling algorithm, Algorithm 1 with online reducing\n",
    "def unroll(G, start, target, k, debug = False):\n",
    "    G_gen = nx.DiGraph()\n",
    "    G_gen.add_node(start, hist = [str(start)])\n",
    "    if 'controllable' in G.nodes[start]:\n",
    "        G_gen.nodes[start][\"controllable\"] = G.nodes[start][\"controllable\"]\n",
    "\n",
    "    cycles = list(nx.simple_cycles(G))\n",
    "\n",
    "    queue = [start]\n",
    "    # start bf-search\n",
    "    while(queue):\n",
    "        s = queue[0]\n",
    "        queue.pop(0)\n",
    "        s_original = str(s).split(\".\")[0]\n",
    "        neighbours = list(G[s_original])\n",
    "        for t in neighbours:\n",
    "            t_original = t\n",
    "            local_hist = copy.deepcopy(G_gen.nodes[s][\"hist\"])\n",
    "            local_hist.append(str(t_original))\n",
    "            is_on_cycle = False\n",
    "            can_traverse = False\n",
    "            path = []\n",
    "            circle = []\n",
    "            relevant_cycle = []\n",
    "            for c in cycles:\n",
    "                if is_on(s_original,t_original,c):\n",
    "                    relevant_cycle.append(c)\n",
    "                    \n",
    "            all_smaller = True\n",
    "            for c in relevant_cycle:\n",
    "                if contains(local_hist,c) >= k:\n",
    "                    all_smaller = False\n",
    "            \n",
    "            if not all_smaller:\n",
    "                paths = list(nx.all_simple_paths(G, source=t, target=target))\n",
    "                for p in paths:\n",
    "                    merged_hist = copy.deepcopy(local_hist)\n",
    "                    merged_hist.extend(p[1:]) # 1.st element already added\n",
    "                    can_not_traverse = False\n",
    "                    \n",
    "                    #test if no loop larger than k with path\n",
    "                    for c_loop in relevant_cycle:\n",
    "                        if contains(merged_hist,c_loop) > k : # check that there is path without completing additional cycle\n",
    "                            can_not_traverse = True\n",
    "                    can_traverse = not can_not_traverse\n",
    "            if all_smaller or can_traverse:               \n",
    "                #every node not on cycle can be unqiue (\"merge point\" within unrolled graph)\n",
    "                if relevant_cycle:\n",
    "                    while t in G_gen.nodes:\n",
    "                        if \".\" not in t:\n",
    "                            t += \".1\"\n",
    "                        else:\n",
    "                            t = t.split(\".\")[0]+\".\"+str(int(t.split(\".\")[-1])+1)\n",
    "                # add node t only to graph if not already treated\n",
    "\n",
    "                if t not in queue:\n",
    "                    queue.append(t)\n",
    "                    G_gen.add_node(t, hist = local_hist)\n",
    "                assert(s in G_gen and t in G_gen)\n",
    "                G_gen.add_edge(s,t)\n",
    "                if('label' in G[s_original][t_original]):\n",
    "                    G_gen[s][t]['label'] = G[s_original][t_original]['label']\n",
    "                if('controllable' in G.nodes[t_original]):\n",
    "                    G_gen.nodes[t]['controllable'] = G.nodes[t_original]['controllable']\n",
    "\n",
    "    print(\"Graph was unrolled\")\n",
    "    return G_gen"
   ]
  },
  {
   "cell_type": "code",
   "execution_count": 19,
   "id": "e0555595",
   "metadata": {},
   "outputs": [
    {
     "name": "stdout",
     "output_type": "stream",
     "text": [
      "Graph was unrolled\n"
     ]
    }
   ],
   "source": [
    "g_unroll = unroll(g, \"start\", [\"finPos\", \"finNeg\"], 1)\n",
    "A = to_agraph(g_unroll)\n",
    "A.layout('dot')\n",
    "if SAVE_ELEMENTS:\n",
    "    A.draw('unrolled.ps')"
   ]
  },
  {
   "cell_type": "code",
   "execution_count": 20,
   "id": "93488cbc",
   "metadata": {},
   "outputs": [],
   "source": [
    "# Method to produce unrolled graph\n",
    "def to_uppaal(g):\n",
    "    f = open(\"unrolled_graph.xml\", \"w+\")\n",
    "    \n",
    "    pos = nx.drawing.nx_agraph.graphviz_layout(g, prog='dot', args='-Grankdir=LR')\n",
    "\n",
    "    f.write('<?xml version=\"1.0\" encoding=\"utf-8\"?>')\n",
    "    f.write(\"<!DOCTYPE nta PUBLIC '-//Uppaal Team//DTD Flat System 1.1//EN' 'http://www.it.uu.se/research/group/darts/uppaal/flat-1_1.dtd'>\")\n",
    "    f.write('<nta>')\n",
    "    f.write('<declaration>')\n",
    "    f.write('int gas = 0;')\n",
    "    f.write('\\n'+'int finalGasMax = 0;')\n",
    "    f.write('\\n'+'int finalGasMin = 100;')\n",
    "    f.write('\\n'+'clock x;')\n",
    "    f.write('\\n'+'hybrid clock t;')\n",
    "    f.write('\\n'+'int steps;')\n",
    "    f.write('</declaration>')\n",
    "    f.write('<template>')\n",
    "    f.write('<name x=\"5\" y=\"5\">Template</name>')\n",
    "    \n",
    "    # print locations\n",
    "    ids = {}\n",
    "    for s,i in zip(pos, range(len(pos))):\n",
    "        ids[s] = i\n",
    "        print_location(f, \"id\"+str(i),pos[s][0],pos[s][1],s)\n",
    "    \n",
    "    f.write('<init ref=\"id'+str(ids['start'])+'\"/>')\n",
    "    for e in g.edges:\n",
    "        final = True if \"finPos\" in e[1] or \"finNeg\" in e[1] else False\n",
    "        print_edge(f, ids[e[0]], ids[e[1]], pos[e[0]], pos[e[1]], g[e[0]][e[1]]['label'], g.nodes[e[1]]['controllable'], final = final)\n",
    "    f.write('</template>')\n",
    "    f.write('<system>')\n",
    "    f.write('Journey = Template();')\n",
    "    f.write('system Journey;')\n",
    "    f.write('</system>')\n",
    "    f.write('</nta>')\n",
    "    f.close()\n",
    "    print(\"All written to\", f.name)\n",
    "\n",
    "def print_location(f, location_id, x, y, name):\n",
    "    f.write('<location id=\"'+location_id+'\" x=\"'+str(int(x))+'\" y=\"'+str(int(y))+'\">')\n",
    "    f.write('<name x=\"'+str(int(x))+'\" y=\"'+str(int(y))+'\">'+str(name).replace(\":\", \"\").replace(\" \",\"\").replace(\".\", \"\").replace(\",\", \"\").replace(\"-\",\"\")+'</name>')\n",
    "    f.write('<label kind=\"invariant\" x=\"'+str(int(x))+'\" y=\"'+str(int(y))+'\">')\n",
    "    if \"finPos\" not in name and \"finNeg\" not in name:\n",
    "        f.write('x &lt;= ' + str(2))\n",
    "    else:\n",
    "        f.write(\"t'==0\")\n",
    "    f.write('</label>')\n",
    "    f.write('</location>')\n",
    "\n",
    "def print_edge(f, s, t, pos_s, pos_t, weight, controllable, final = False):\n",
    "    x = (pos_s[0]+pos_t[0])/2\n",
    "    y = (pos_s[1]+pos_t[1])/2\n",
    "    if controllable:\n",
    "        f.write('<transition action = \"\">')\n",
    "    else:\n",
    "        f.write('<transition controllable=\"false\" action = \"\">')\n",
    "    f.write('<source ref=\"id'+str(s)+'\"/>')\n",
    "    f.write('<target ref=\"id'+str(t)+'\"/>')\n",
    "    \n",
    "    f.write('<label kind=\"assignment\" x=\"'+str(int(x))+'\" y=\"'+str(int(y))+'\">')\n",
    "    if final:\n",
    "        f.write('finalGasMax = gas +'+str(int(round(weight))))\n",
    "        f.write(',\\n'+'finalGasMin = gas +'+str(int(round(weight))))\n",
    "        f.write(',\\n'+ 'gas = gas + '+str(int(round(weight))))\n",
    "    else:\n",
    "        f.write('gas = gas + '+str(int(round(weight))))\n",
    "    \n",
    "    f.write(',\\n'+ 'steps += 1')\n",
    "    f.write(',\\n'+ 'x = 0')\n",
    "    \n",
    "    f.write('</label>')\n",
    "    \n",
    "    f.write('</transition>')\n"
   ]
  },
  {
   "cell_type": "code",
   "execution_count": 21,
   "id": "5016b509",
   "metadata": {},
   "outputs": [
    {
     "name": "stdout",
     "output_type": "stream",
     "text": [
      "All written to unrolled_graph.xml\n"
     ]
    }
   ],
   "source": [
    "if SAVE_ELEMENTS:\n",
    "    to_uppaal(g_unroll)"
   ]
  },
  {
   "cell_type": "markdown",
   "id": "bdcd8044",
   "metadata": {},
   "source": [
    "##  UPPAAL\n",
    "This generated model can then by model checked with UPPAAL."
   ]
  },
  {
   "cell_type": "markdown",
   "id": "46d6bb06",
   "metadata": {},
   "source": [
    "# Generate Simulation Plot\n",
    "Generates comparison plot between GoPos and GoPosFast, Figure 7"
   ]
  },
  {
   "cell_type": "code",
   "execution_count": 22,
   "id": "e5151680",
   "metadata": {},
   "outputs": [
    {
     "data": {
      "image/png": "[encoded data removed]",
      "text/plain": [
       "<Figure size 432x288 with 1 Axes>"
      ]
     },
     "metadata": {
      "needs_background": "light"
     },
     "output_type": "display_data"
    }
   ],
   "source": [
    "def read_csv(path):\n",
    "    simulations = []\n",
    "    lines = []\n",
    "    with open(path) as file:\n",
    "        lines = file.readlines()\n",
    "        lines = [line.rstrip() for line in lines]\n",
    "    lines = [line for line in lines if \"##\" not in line]\n",
    "    lines.pop(0)\n",
    "    x = []\n",
    "    y = []\n",
    "    current_x = []\n",
    "    current_y = []\n",
    "    current_simulation = []\n",
    "    for line in lines:\n",
    "        if \"#\" in line:\n",
    "            current_x.append(30)\n",
    "            current_y.append(current_y[-1])\n",
    "            x.append(current_x)\n",
    "            y.append(current_y)\n",
    "            current_x = []\n",
    "            current_y = []\n",
    "        else:\n",
    "            current_x.append(float(line.split(\",\")[0]))\n",
    "            current_y.append(float(line.split(\",\")[1]))\n",
    "    return x,y\n",
    "\n",
    "x,y = read_csv(\"gopos.csv\")\n",
    "x_fast, y_fast = read_csv(\"goposfast.csv\")\n",
    "plt.rcParams[\"figure.autolayout\"] = True\n",
    "for i in range(len(x)):\n",
    "    if i == len(x)-1:\n",
    "        plt.plot(x[i],y[i], c = \"r\", linewidth = 1, label = \"GoPos\")\n",
    "    else:\n",
    "        plt.plot(x[i],y[i], c = \"r\", linewidth = 1)\n",
    "for i in range(len(x_fast)):\n",
    "    if i == len(x_fast)-1:\n",
    "        plt.plot(x_fast[i],y_fast[i], c = \"b\", linewidth = 1, label = \"GoPosFast\")\n",
    "    else:\n",
    "        plt.plot(x_fast[i],y_fast[i], c = \"b\", linewidth = 1)\n",
    "plt.legend()\n",
    "plt.savefig(\"simulation.png\")\n",
    "plt.xlabel(\"Time (t)\",  fontsize=18)\n",
    "plt.ylabel(\"Gas\",  fontsize=18)\n",
    "plt.show()"
   ]
  }
 ],
 "metadata": {
  "kernelspec": {
   "display_name": "Python 3 (ipykernel)",
   "language": "python",
   "name": "python3"
  },
  "language_info": {
   "codemirror_mode": {
    "name": "ipython",
    "version": 3
   },
   "file_extension": ".py",
   "mimetype": "text/x-python",
   "name": "python",
   "nbconvert_exporter": "python",
   "pygments_lexer": "ipython3",
   "version": "3.8.10"
  }
 },
 "nbformat": 4,
 "nbformat_minor": 5
}
